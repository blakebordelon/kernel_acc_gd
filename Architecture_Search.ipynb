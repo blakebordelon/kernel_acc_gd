{
  "nbformat": 4,
  "nbformat_minor": 0,
  "metadata": {
    "colab": {
      "name": "Architecture_Search.ipynb",
      "provenance": [],
      "collapsed_sections": [],
      "machine_shape": "hm"
    },
    "kernelspec": {
      "name": "python3",
      "display_name": "Python 3"
    },
    "accelerator": "GPU",
    "widgets": {
      "application/vnd.jupyter.widget-state+json": {
        "07a3bc713f4b4bb48d30dc7281042ee6": {
          "model_module": "@jupyter-widgets/controls",
          "model_name": "HBoxModel",
          "state": {
            "_view_name": "HBoxView",
            "_dom_classes": [],
            "_model_name": "HBoxModel",
            "_view_module": "@jupyter-widgets/controls",
            "_model_module_version": "1.5.0",
            "_view_count": null,
            "_view_module_version": "1.5.0",
            "box_style": "",
            "layout": "IPY_MODEL_7fb2777282e1408d8abc73b07cf131d0",
            "_model_module": "@jupyter-widgets/controls",
            "children": [
              "IPY_MODEL_3b8707c247874ea3810f141210722ec9",
              "IPY_MODEL_b0d7ad4e6a5d464c97966e1fa957980b"
            ]
          }
        },
        "7fb2777282e1408d8abc73b07cf131d0": {
          "model_module": "@jupyter-widgets/base",
          "model_name": "LayoutModel",
          "state": {
            "_view_name": "LayoutView",
            "grid_template_rows": null,
            "right": null,
            "justify_content": null,
            "_view_module": "@jupyter-widgets/base",
            "overflow": null,
            "_model_module_version": "1.2.0",
            "_view_count": null,
            "flex_flow": null,
            "width": null,
            "min_width": null,
            "border": null,
            "align_items": null,
            "bottom": null,
            "_model_module": "@jupyter-widgets/base",
            "top": null,
            "grid_column": null,
            "overflow_y": null,
            "overflow_x": null,
            "grid_auto_flow": null,
            "grid_area": null,
            "grid_template_columns": null,
            "flex": null,
            "_model_name": "LayoutModel",
            "justify_items": null,
            "grid_row": null,
            "max_height": null,
            "align_content": null,
            "visibility": null,
            "align_self": null,
            "height": null,
            "min_height": null,
            "padding": null,
            "grid_auto_rows": null,
            "grid_gap": null,
            "max_width": null,
            "order": null,
            "_view_module_version": "1.2.0",
            "grid_template_areas": null,
            "object_position": null,
            "object_fit": null,
            "grid_auto_columns": null,
            "margin": null,
            "display": null,
            "left": null
          }
        },
        "3b8707c247874ea3810f141210722ec9": {
          "model_module": "@jupyter-widgets/controls",
          "model_name": "FloatProgressModel",
          "state": {
            "_view_name": "ProgressView",
            "style": "IPY_MODEL_bf0a938abbaf40418f29222374dba6f7",
            "_dom_classes": [],
            "description": "Dl Completed...: 100%",
            "_model_name": "FloatProgressModel",
            "bar_style": "success",
            "max": 1,
            "_view_module": "@jupyter-widgets/controls",
            "_model_module_version": "1.5.0",
            "value": 1,
            "_view_count": null,
            "_view_module_version": "1.5.0",
            "orientation": "horizontal",
            "min": 0,
            "description_tooltip": null,
            "_model_module": "@jupyter-widgets/controls",
            "layout": "IPY_MODEL_d1549530d19d40b5a028022268da15a5"
          }
        },
        "b0d7ad4e6a5d464c97966e1fa957980b": {
          "model_module": "@jupyter-widgets/controls",
          "model_name": "HTMLModel",
          "state": {
            "_view_name": "HTMLView",
            "style": "IPY_MODEL_dc672483912f44108f64a25b716799ef",
            "_dom_classes": [],
            "description": "",
            "_model_name": "HTMLModel",
            "placeholder": "​",
            "_view_module": "@jupyter-widgets/controls",
            "_model_module_version": "1.5.0",
            "value": " 1/1 [00:08&lt;00:00,  8.77s/ url]",
            "_view_count": null,
            "_view_module_version": "1.5.0",
            "description_tooltip": null,
            "_model_module": "@jupyter-widgets/controls",
            "layout": "IPY_MODEL_91d26e307ca6436db63d0e2918621581"
          }
        },
        "bf0a938abbaf40418f29222374dba6f7": {
          "model_module": "@jupyter-widgets/controls",
          "model_name": "ProgressStyleModel",
          "state": {
            "_view_name": "StyleView",
            "_model_name": "ProgressStyleModel",
            "description_width": "initial",
            "_view_module": "@jupyter-widgets/base",
            "_model_module_version": "1.5.0",
            "_view_count": null,
            "_view_module_version": "1.2.0",
            "bar_color": null,
            "_model_module": "@jupyter-widgets/controls"
          }
        },
        "d1549530d19d40b5a028022268da15a5": {
          "model_module": "@jupyter-widgets/base",
          "model_name": "LayoutModel",
          "state": {
            "_view_name": "LayoutView",
            "grid_template_rows": null,
            "right": null,
            "justify_content": null,
            "_view_module": "@jupyter-widgets/base",
            "overflow": null,
            "_model_module_version": "1.2.0",
            "_view_count": null,
            "flex_flow": null,
            "width": null,
            "min_width": null,
            "border": null,
            "align_items": null,
            "bottom": null,
            "_model_module": "@jupyter-widgets/base",
            "top": null,
            "grid_column": null,
            "overflow_y": null,
            "overflow_x": null,
            "grid_auto_flow": null,
            "grid_area": null,
            "grid_template_columns": null,
            "flex": null,
            "_model_name": "LayoutModel",
            "justify_items": null,
            "grid_row": null,
            "max_height": null,
            "align_content": null,
            "visibility": null,
            "align_self": null,
            "height": null,
            "min_height": null,
            "padding": null,
            "grid_auto_rows": null,
            "grid_gap": null,
            "max_width": null,
            "order": null,
            "_view_module_version": "1.2.0",
            "grid_template_areas": null,
            "object_position": null,
            "object_fit": null,
            "grid_auto_columns": null,
            "margin": null,
            "display": null,
            "left": null
          }
        },
        "dc672483912f44108f64a25b716799ef": {
          "model_module": "@jupyter-widgets/controls",
          "model_name": "DescriptionStyleModel",
          "state": {
            "_view_name": "StyleView",
            "_model_name": "DescriptionStyleModel",
            "description_width": "",
            "_view_module": "@jupyter-widgets/base",
            "_model_module_version": "1.5.0",
            "_view_count": null,
            "_view_module_version": "1.2.0",
            "_model_module": "@jupyter-widgets/controls"
          }
        },
        "91d26e307ca6436db63d0e2918621581": {
          "model_module": "@jupyter-widgets/base",
          "model_name": "LayoutModel",
          "state": {
            "_view_name": "LayoutView",
            "grid_template_rows": null,
            "right": null,
            "justify_content": null,
            "_view_module": "@jupyter-widgets/base",
            "overflow": null,
            "_model_module_version": "1.2.0",
            "_view_count": null,
            "flex_flow": null,
            "width": null,
            "min_width": null,
            "border": null,
            "align_items": null,
            "bottom": null,
            "_model_module": "@jupyter-widgets/base",
            "top": null,
            "grid_column": null,
            "overflow_y": null,
            "overflow_x": null,
            "grid_auto_flow": null,
            "grid_area": null,
            "grid_template_columns": null,
            "flex": null,
            "_model_name": "LayoutModel",
            "justify_items": null,
            "grid_row": null,
            "max_height": null,
            "align_content": null,
            "visibility": null,
            "align_self": null,
            "height": null,
            "min_height": null,
            "padding": null,
            "grid_auto_rows": null,
            "grid_gap": null,
            "max_width": null,
            "order": null,
            "_view_module_version": "1.2.0",
            "grid_template_areas": null,
            "object_position": null,
            "object_fit": null,
            "grid_auto_columns": null,
            "margin": null,
            "display": null,
            "left": null
          }
        },
        "8d7dea87c0464d8fbed1d6d9652fdf14": {
          "model_module": "@jupyter-widgets/controls",
          "model_name": "HBoxModel",
          "state": {
            "_view_name": "HBoxView",
            "_dom_classes": [],
            "_model_name": "HBoxModel",
            "_view_module": "@jupyter-widgets/controls",
            "_model_module_version": "1.5.0",
            "_view_count": null,
            "_view_module_version": "1.5.0",
            "box_style": "",
            "layout": "IPY_MODEL_8def80143c524977b8ed3abfbc81f69e",
            "_model_module": "@jupyter-widgets/controls",
            "children": [
              "IPY_MODEL_c0136221ed38436abd395e79ce6019ef",
              "IPY_MODEL_08f29c0ac5274f8c8c722751a0955e71"
            ]
          }
        },
        "8def80143c524977b8ed3abfbc81f69e": {
          "model_module": "@jupyter-widgets/base",
          "model_name": "LayoutModel",
          "state": {
            "_view_name": "LayoutView",
            "grid_template_rows": null,
            "right": null,
            "justify_content": null,
            "_view_module": "@jupyter-widgets/base",
            "overflow": null,
            "_model_module_version": "1.2.0",
            "_view_count": null,
            "flex_flow": null,
            "width": null,
            "min_width": null,
            "border": null,
            "align_items": null,
            "bottom": null,
            "_model_module": "@jupyter-widgets/base",
            "top": null,
            "grid_column": null,
            "overflow_y": null,
            "overflow_x": null,
            "grid_auto_flow": null,
            "grid_area": null,
            "grid_template_columns": null,
            "flex": null,
            "_model_name": "LayoutModel",
            "justify_items": null,
            "grid_row": null,
            "max_height": null,
            "align_content": null,
            "visibility": null,
            "align_self": null,
            "height": null,
            "min_height": null,
            "padding": null,
            "grid_auto_rows": null,
            "grid_gap": null,
            "max_width": null,
            "order": null,
            "_view_module_version": "1.2.0",
            "grid_template_areas": null,
            "object_position": null,
            "object_fit": null,
            "grid_auto_columns": null,
            "margin": null,
            "display": null,
            "left": null
          }
        },
        "c0136221ed38436abd395e79ce6019ef": {
          "model_module": "@jupyter-widgets/controls",
          "model_name": "FloatProgressModel",
          "state": {
            "_view_name": "ProgressView",
            "style": "IPY_MODEL_8fe0cd08d52740d1a9f5e0bc50694d0e",
            "_dom_classes": [],
            "description": "Dl Size...: 100%",
            "_model_name": "FloatProgressModel",
            "bar_style": "success",
            "max": 1,
            "_view_module": "@jupyter-widgets/controls",
            "_model_module_version": "1.5.0",
            "value": 1,
            "_view_count": null,
            "_view_module_version": "1.5.0",
            "orientation": "horizontal",
            "min": 0,
            "description_tooltip": null,
            "_model_module": "@jupyter-widgets/controls",
            "layout": "IPY_MODEL_818b308abedb4651b6aecaf440dfb0d0"
          }
        },
        "08f29c0ac5274f8c8c722751a0955e71": {
          "model_module": "@jupyter-widgets/controls",
          "model_name": "HTMLModel",
          "state": {
            "_view_name": "HTMLView",
            "style": "IPY_MODEL_1349ea80f3364b7a83644cecf77a496f",
            "_dom_classes": [],
            "description": "",
            "_model_name": "HTMLModel",
            "placeholder": "​",
            "_view_module": "@jupyter-widgets/controls",
            "_model_module_version": "1.5.0",
            "value": " 162/162 [00:08&lt;00:00, 18.51 MiB/s]",
            "_view_count": null,
            "_view_module_version": "1.5.0",
            "description_tooltip": null,
            "_model_module": "@jupyter-widgets/controls",
            "layout": "IPY_MODEL_9937bb2d8d60459cbaba61f42d4f5c0b"
          }
        },
        "8fe0cd08d52740d1a9f5e0bc50694d0e": {
          "model_module": "@jupyter-widgets/controls",
          "model_name": "ProgressStyleModel",
          "state": {
            "_view_name": "StyleView",
            "_model_name": "ProgressStyleModel",
            "description_width": "initial",
            "_view_module": "@jupyter-widgets/base",
            "_model_module_version": "1.5.0",
            "_view_count": null,
            "_view_module_version": "1.2.0",
            "bar_color": null,
            "_model_module": "@jupyter-widgets/controls"
          }
        },
        "818b308abedb4651b6aecaf440dfb0d0": {
          "model_module": "@jupyter-widgets/base",
          "model_name": "LayoutModel",
          "state": {
            "_view_name": "LayoutView",
            "grid_template_rows": null,
            "right": null,
            "justify_content": null,
            "_view_module": "@jupyter-widgets/base",
            "overflow": null,
            "_model_module_version": "1.2.0",
            "_view_count": null,
            "flex_flow": null,
            "width": null,
            "min_width": null,
            "border": null,
            "align_items": null,
            "bottom": null,
            "_model_module": "@jupyter-widgets/base",
            "top": null,
            "grid_column": null,
            "overflow_y": null,
            "overflow_x": null,
            "grid_auto_flow": null,
            "grid_area": null,
            "grid_template_columns": null,
            "flex": null,
            "_model_name": "LayoutModel",
            "justify_items": null,
            "grid_row": null,
            "max_height": null,
            "align_content": null,
            "visibility": null,
            "align_self": null,
            "height": null,
            "min_height": null,
            "padding": null,
            "grid_auto_rows": null,
            "grid_gap": null,
            "max_width": null,
            "order": null,
            "_view_module_version": "1.2.0",
            "grid_template_areas": null,
            "object_position": null,
            "object_fit": null,
            "grid_auto_columns": null,
            "margin": null,
            "display": null,
            "left": null
          }
        },
        "1349ea80f3364b7a83644cecf77a496f": {
          "model_module": "@jupyter-widgets/controls",
          "model_name": "DescriptionStyleModel",
          "state": {
            "_view_name": "StyleView",
            "_model_name": "DescriptionStyleModel",
            "description_width": "",
            "_view_module": "@jupyter-widgets/base",
            "_model_module_version": "1.5.0",
            "_view_count": null,
            "_view_module_version": "1.2.0",
            "_model_module": "@jupyter-widgets/controls"
          }
        },
        "9937bb2d8d60459cbaba61f42d4f5c0b": {
          "model_module": "@jupyter-widgets/base",
          "model_name": "LayoutModel",
          "state": {
            "_view_name": "LayoutView",
            "grid_template_rows": null,
            "right": null,
            "justify_content": null,
            "_view_module": "@jupyter-widgets/base",
            "overflow": null,
            "_model_module_version": "1.2.0",
            "_view_count": null,
            "flex_flow": null,
            "width": null,
            "min_width": null,
            "border": null,
            "align_items": null,
            "bottom": null,
            "_model_module": "@jupyter-widgets/base",
            "top": null,
            "grid_column": null,
            "overflow_y": null,
            "overflow_x": null,
            "grid_auto_flow": null,
            "grid_area": null,
            "grid_template_columns": null,
            "flex": null,
            "_model_name": "LayoutModel",
            "justify_items": null,
            "grid_row": null,
            "max_height": null,
            "align_content": null,
            "visibility": null,
            "align_self": null,
            "height": null,
            "min_height": null,
            "padding": null,
            "grid_auto_rows": null,
            "grid_gap": null,
            "max_width": null,
            "order": null,
            "_view_module_version": "1.2.0",
            "grid_template_areas": null,
            "object_position": null,
            "object_fit": null,
            "grid_auto_columns": null,
            "margin": null,
            "display": null,
            "left": null
          }
        },
        "6efc0c75c3944337b5e84656bca1616f": {
          "model_module": "@jupyter-widgets/controls",
          "model_name": "HBoxModel",
          "state": {
            "_view_name": "HBoxView",
            "_dom_classes": [],
            "_model_name": "HBoxModel",
            "_view_module": "@jupyter-widgets/controls",
            "_model_module_version": "1.5.0",
            "_view_count": null,
            "_view_module_version": "1.5.0",
            "box_style": "",
            "layout": "IPY_MODEL_4b2bed88335245b7b6f70d232b3eb6e4",
            "_model_module": "@jupyter-widgets/controls",
            "children": [
              "IPY_MODEL_5f003081191f473697b7d74503339e57",
              "IPY_MODEL_24eab4c5daf546bb9748e1ea52eb88c6"
            ]
          }
        },
        "4b2bed88335245b7b6f70d232b3eb6e4": {
          "model_module": "@jupyter-widgets/base",
          "model_name": "LayoutModel",
          "state": {
            "_view_name": "LayoutView",
            "grid_template_rows": null,
            "right": null,
            "justify_content": null,
            "_view_module": "@jupyter-widgets/base",
            "overflow": null,
            "_model_module_version": "1.2.0",
            "_view_count": null,
            "flex_flow": null,
            "width": null,
            "min_width": null,
            "border": null,
            "align_items": null,
            "bottom": null,
            "_model_module": "@jupyter-widgets/base",
            "top": null,
            "grid_column": null,
            "overflow_y": null,
            "overflow_x": null,
            "grid_auto_flow": null,
            "grid_area": null,
            "grid_template_columns": null,
            "flex": null,
            "_model_name": "LayoutModel",
            "justify_items": null,
            "grid_row": null,
            "max_height": null,
            "align_content": null,
            "visibility": null,
            "align_self": null,
            "height": null,
            "min_height": null,
            "padding": null,
            "grid_auto_rows": null,
            "grid_gap": null,
            "max_width": null,
            "order": null,
            "_view_module_version": "1.2.0",
            "grid_template_areas": null,
            "object_position": null,
            "object_fit": null,
            "grid_auto_columns": null,
            "margin": null,
            "display": null,
            "left": null
          }
        },
        "5f003081191f473697b7d74503339e57": {
          "model_module": "@jupyter-widgets/controls",
          "model_name": "FloatProgressModel",
          "state": {
            "_view_name": "ProgressView",
            "style": "IPY_MODEL_903ef1a9ff2847d6864775d560ef42c0",
            "_dom_classes": [],
            "description": "Extraction completed...: 100%",
            "_model_name": "FloatProgressModel",
            "bar_style": "success",
            "max": 1,
            "_view_module": "@jupyter-widgets/controls",
            "_model_module_version": "1.5.0",
            "value": 1,
            "_view_count": null,
            "_view_module_version": "1.5.0",
            "orientation": "horizontal",
            "min": 0,
            "description_tooltip": null,
            "_model_module": "@jupyter-widgets/controls",
            "layout": "IPY_MODEL_467790da28ca4b0d934971708f413759"
          }
        },
        "24eab4c5daf546bb9748e1ea52eb88c6": {
          "model_module": "@jupyter-widgets/controls",
          "model_name": "HTMLModel",
          "state": {
            "_view_name": "HTMLView",
            "style": "IPY_MODEL_2d12784722744450b204ae2c9383f050",
            "_dom_classes": [],
            "description": "",
            "_model_name": "HTMLModel",
            "placeholder": "​",
            "_view_module": "@jupyter-widgets/controls",
            "_model_module_version": "1.5.0",
            "value": " 1/1 [00:08&lt;00:00,  8.72s/ file]",
            "_view_count": null,
            "_view_module_version": "1.5.0",
            "description_tooltip": null,
            "_model_module": "@jupyter-widgets/controls",
            "layout": "IPY_MODEL_590dc3da38a04680bfe83b7a61574403"
          }
        },
        "903ef1a9ff2847d6864775d560ef42c0": {
          "model_module": "@jupyter-widgets/controls",
          "model_name": "ProgressStyleModel",
          "state": {
            "_view_name": "StyleView",
            "_model_name": "ProgressStyleModel",
            "description_width": "initial",
            "_view_module": "@jupyter-widgets/base",
            "_model_module_version": "1.5.0",
            "_view_count": null,
            "_view_module_version": "1.2.0",
            "bar_color": null,
            "_model_module": "@jupyter-widgets/controls"
          }
        },
        "467790da28ca4b0d934971708f413759": {
          "model_module": "@jupyter-widgets/base",
          "model_name": "LayoutModel",
          "state": {
            "_view_name": "LayoutView",
            "grid_template_rows": null,
            "right": null,
            "justify_content": null,
            "_view_module": "@jupyter-widgets/base",
            "overflow": null,
            "_model_module_version": "1.2.0",
            "_view_count": null,
            "flex_flow": null,
            "width": null,
            "min_width": null,
            "border": null,
            "align_items": null,
            "bottom": null,
            "_model_module": "@jupyter-widgets/base",
            "top": null,
            "grid_column": null,
            "overflow_y": null,
            "overflow_x": null,
            "grid_auto_flow": null,
            "grid_area": null,
            "grid_template_columns": null,
            "flex": null,
            "_model_name": "LayoutModel",
            "justify_items": null,
            "grid_row": null,
            "max_height": null,
            "align_content": null,
            "visibility": null,
            "align_self": null,
            "height": null,
            "min_height": null,
            "padding": null,
            "grid_auto_rows": null,
            "grid_gap": null,
            "max_width": null,
            "order": null,
            "_view_module_version": "1.2.0",
            "grid_template_areas": null,
            "object_position": null,
            "object_fit": null,
            "grid_auto_columns": null,
            "margin": null,
            "display": null,
            "left": null
          }
        },
        "2d12784722744450b204ae2c9383f050": {
          "model_module": "@jupyter-widgets/controls",
          "model_name": "DescriptionStyleModel",
          "state": {
            "_view_name": "StyleView",
            "_model_name": "DescriptionStyleModel",
            "description_width": "",
            "_view_module": "@jupyter-widgets/base",
            "_model_module_version": "1.5.0",
            "_view_count": null,
            "_view_module_version": "1.2.0",
            "_model_module": "@jupyter-widgets/controls"
          }
        },
        "590dc3da38a04680bfe83b7a61574403": {
          "model_module": "@jupyter-widgets/base",
          "model_name": "LayoutModel",
          "state": {
            "_view_name": "LayoutView",
            "grid_template_rows": null,
            "right": null,
            "justify_content": null,
            "_view_module": "@jupyter-widgets/base",
            "overflow": null,
            "_model_module_version": "1.2.0",
            "_view_count": null,
            "flex_flow": null,
            "width": null,
            "min_width": null,
            "border": null,
            "align_items": null,
            "bottom": null,
            "_model_module": "@jupyter-widgets/base",
            "top": null,
            "grid_column": null,
            "overflow_y": null,
            "overflow_x": null,
            "grid_auto_flow": null,
            "grid_area": null,
            "grid_template_columns": null,
            "flex": null,
            "_model_name": "LayoutModel",
            "justify_items": null,
            "grid_row": null,
            "max_height": null,
            "align_content": null,
            "visibility": null,
            "align_self": null,
            "height": null,
            "min_height": null,
            "padding": null,
            "grid_auto_rows": null,
            "grid_gap": null,
            "max_width": null,
            "order": null,
            "_view_module_version": "1.2.0",
            "grid_template_areas": null,
            "object_position": null,
            "object_fit": null,
            "grid_auto_columns": null,
            "margin": null,
            "display": null,
            "left": null
          }
        },
        "d8c0411ebe064ab193eb7797f85da4a2": {
          "model_module": "@jupyter-widgets/controls",
          "model_name": "HBoxModel",
          "state": {
            "_view_name": "HBoxView",
            "_dom_classes": [],
            "_model_name": "HBoxModel",
            "_view_module": "@jupyter-widgets/controls",
            "_model_module_version": "1.5.0",
            "_view_count": null,
            "_view_module_version": "1.5.0",
            "box_style": "",
            "layout": "IPY_MODEL_0d6f85bb5b03499b95adf4579f303817",
            "_model_module": "@jupyter-widgets/controls",
            "children": [
              "IPY_MODEL_6fc2151e4c9c43e2b659b1256802d137",
              "IPY_MODEL_5f0a3e0761594aeaa63202bf854e45b4"
            ]
          }
        },
        "0d6f85bb5b03499b95adf4579f303817": {
          "model_module": "@jupyter-widgets/base",
          "model_name": "LayoutModel",
          "state": {
            "_view_name": "LayoutView",
            "grid_template_rows": null,
            "right": null,
            "justify_content": null,
            "_view_module": "@jupyter-widgets/base",
            "overflow": null,
            "_model_module_version": "1.2.0",
            "_view_count": null,
            "flex_flow": null,
            "width": null,
            "min_width": null,
            "border": null,
            "align_items": null,
            "bottom": null,
            "_model_module": "@jupyter-widgets/base",
            "top": null,
            "grid_column": null,
            "overflow_y": null,
            "overflow_x": null,
            "grid_auto_flow": null,
            "grid_area": null,
            "grid_template_columns": null,
            "flex": null,
            "_model_name": "LayoutModel",
            "justify_items": null,
            "grid_row": null,
            "max_height": null,
            "align_content": null,
            "visibility": null,
            "align_self": null,
            "height": null,
            "min_height": null,
            "padding": null,
            "grid_auto_rows": null,
            "grid_gap": null,
            "max_width": null,
            "order": null,
            "_view_module_version": "1.2.0",
            "grid_template_areas": null,
            "object_position": null,
            "object_fit": null,
            "grid_auto_columns": null,
            "margin": null,
            "display": null,
            "left": null
          }
        },
        "6fc2151e4c9c43e2b659b1256802d137": {
          "model_module": "@jupyter-widgets/controls",
          "model_name": "FloatProgressModel",
          "state": {
            "_view_name": "ProgressView",
            "style": "IPY_MODEL_c30e3af46c3d46c1b0a36c2949683ad1",
            "_dom_classes": [],
            "description": "",
            "_model_name": "FloatProgressModel",
            "bar_style": "info",
            "max": 1,
            "_view_module": "@jupyter-widgets/controls",
            "_model_module_version": "1.5.0",
            "value": 1,
            "_view_count": null,
            "_view_module_version": "1.5.0",
            "orientation": "horizontal",
            "min": 0,
            "description_tooltip": null,
            "_model_module": "@jupyter-widgets/controls",
            "layout": "IPY_MODEL_a9ff0072d4394f0398e2cb2ba61e1a32"
          }
        },
        "5f0a3e0761594aeaa63202bf854e45b4": {
          "model_module": "@jupyter-widgets/controls",
          "model_name": "HTMLModel",
          "state": {
            "_view_name": "HTMLView",
            "style": "IPY_MODEL_e3b2fc5d3ffd4635ba17a6145433bf70",
            "_dom_classes": [],
            "description": "",
            "_model_name": "HTMLModel",
            "placeholder": "​",
            "_view_module": "@jupyter-widgets/controls",
            "_model_module_version": "1.5.0",
            "value": " 50000/0 [00:37&lt;00:00, 1626.62 examples/s]",
            "_view_count": null,
            "_view_module_version": "1.5.0",
            "description_tooltip": null,
            "_model_module": "@jupyter-widgets/controls",
            "layout": "IPY_MODEL_852f34575c1d49b0a60fa402636f4306"
          }
        },
        "c30e3af46c3d46c1b0a36c2949683ad1": {
          "model_module": "@jupyter-widgets/controls",
          "model_name": "ProgressStyleModel",
          "state": {
            "_view_name": "StyleView",
            "_model_name": "ProgressStyleModel",
            "description_width": "initial",
            "_view_module": "@jupyter-widgets/base",
            "_model_module_version": "1.5.0",
            "_view_count": null,
            "_view_module_version": "1.2.0",
            "bar_color": null,
            "_model_module": "@jupyter-widgets/controls"
          }
        },
        "a9ff0072d4394f0398e2cb2ba61e1a32": {
          "model_module": "@jupyter-widgets/base",
          "model_name": "LayoutModel",
          "state": {
            "_view_name": "LayoutView",
            "grid_template_rows": null,
            "right": null,
            "justify_content": null,
            "_view_module": "@jupyter-widgets/base",
            "overflow": null,
            "_model_module_version": "1.2.0",
            "_view_count": null,
            "flex_flow": null,
            "width": null,
            "min_width": null,
            "border": null,
            "align_items": null,
            "bottom": null,
            "_model_module": "@jupyter-widgets/base",
            "top": null,
            "grid_column": null,
            "overflow_y": null,
            "overflow_x": null,
            "grid_auto_flow": null,
            "grid_area": null,
            "grid_template_columns": null,
            "flex": null,
            "_model_name": "LayoutModel",
            "justify_items": null,
            "grid_row": null,
            "max_height": null,
            "align_content": null,
            "visibility": null,
            "align_self": null,
            "height": null,
            "min_height": null,
            "padding": null,
            "grid_auto_rows": null,
            "grid_gap": null,
            "max_width": null,
            "order": null,
            "_view_module_version": "1.2.0",
            "grid_template_areas": null,
            "object_position": null,
            "object_fit": null,
            "grid_auto_columns": null,
            "margin": null,
            "display": null,
            "left": null
          }
        },
        "e3b2fc5d3ffd4635ba17a6145433bf70": {
          "model_module": "@jupyter-widgets/controls",
          "model_name": "DescriptionStyleModel",
          "state": {
            "_view_name": "StyleView",
            "_model_name": "DescriptionStyleModel",
            "description_width": "",
            "_view_module": "@jupyter-widgets/base",
            "_model_module_version": "1.5.0",
            "_view_count": null,
            "_view_module_version": "1.2.0",
            "_model_module": "@jupyter-widgets/controls"
          }
        },
        "852f34575c1d49b0a60fa402636f4306": {
          "model_module": "@jupyter-widgets/base",
          "model_name": "LayoutModel",
          "state": {
            "_view_name": "LayoutView",
            "grid_template_rows": null,
            "right": null,
            "justify_content": null,
            "_view_module": "@jupyter-widgets/base",
            "overflow": null,
            "_model_module_version": "1.2.0",
            "_view_count": null,
            "flex_flow": null,
            "width": null,
            "min_width": null,
            "border": null,
            "align_items": null,
            "bottom": null,
            "_model_module": "@jupyter-widgets/base",
            "top": null,
            "grid_column": null,
            "overflow_y": null,
            "overflow_x": null,
            "grid_auto_flow": null,
            "grid_area": null,
            "grid_template_columns": null,
            "flex": null,
            "_model_name": "LayoutModel",
            "justify_items": null,
            "grid_row": null,
            "max_height": null,
            "align_content": null,
            "visibility": null,
            "align_self": null,
            "height": null,
            "min_height": null,
            "padding": null,
            "grid_auto_rows": null,
            "grid_gap": null,
            "max_width": null,
            "order": null,
            "_view_module_version": "1.2.0",
            "grid_template_areas": null,
            "object_position": null,
            "object_fit": null,
            "grid_auto_columns": null,
            "margin": null,
            "display": null,
            "left": null
          }
        },
        "f849f95f7bd4483e9df1afdb81775a5a": {
          "model_module": "@jupyter-widgets/controls",
          "model_name": "HBoxModel",
          "state": {
            "_view_name": "HBoxView",
            "_dom_classes": [],
            "_model_name": "HBoxModel",
            "_view_module": "@jupyter-widgets/controls",
            "_model_module_version": "1.5.0",
            "_view_count": null,
            "_view_module_version": "1.5.0",
            "box_style": "",
            "layout": "IPY_MODEL_3081bd79f4054538a734d2826371a8e0",
            "_model_module": "@jupyter-widgets/controls",
            "children": [
              "IPY_MODEL_1f042259fc7642da9856415be4a84146",
              "IPY_MODEL_19961a054e454a1c8bde579f63335139"
            ]
          }
        },
        "3081bd79f4054538a734d2826371a8e0": {
          "model_module": "@jupyter-widgets/base",
          "model_name": "LayoutModel",
          "state": {
            "_view_name": "LayoutView",
            "grid_template_rows": null,
            "right": null,
            "justify_content": null,
            "_view_module": "@jupyter-widgets/base",
            "overflow": null,
            "_model_module_version": "1.2.0",
            "_view_count": null,
            "flex_flow": null,
            "width": null,
            "min_width": null,
            "border": null,
            "align_items": null,
            "bottom": null,
            "_model_module": "@jupyter-widgets/base",
            "top": null,
            "grid_column": null,
            "overflow_y": null,
            "overflow_x": null,
            "grid_auto_flow": null,
            "grid_area": null,
            "grid_template_columns": null,
            "flex": null,
            "_model_name": "LayoutModel",
            "justify_items": null,
            "grid_row": null,
            "max_height": null,
            "align_content": null,
            "visibility": null,
            "align_self": null,
            "height": null,
            "min_height": null,
            "padding": null,
            "grid_auto_rows": null,
            "grid_gap": null,
            "max_width": null,
            "order": null,
            "_view_module_version": "1.2.0",
            "grid_template_areas": null,
            "object_position": null,
            "object_fit": null,
            "grid_auto_columns": null,
            "margin": null,
            "display": null,
            "left": null
          }
        },
        "1f042259fc7642da9856415be4a84146": {
          "model_module": "@jupyter-widgets/controls",
          "model_name": "FloatProgressModel",
          "state": {
            "_view_name": "ProgressView",
            "style": "IPY_MODEL_370b91f309d14ad4963deccfe1d50ea4",
            "_dom_classes": [],
            "description": " 99%",
            "_model_name": "FloatProgressModel",
            "bar_style": "danger",
            "max": 50000,
            "_view_module": "@jupyter-widgets/controls",
            "_model_module_version": "1.5.0",
            "value": 49260,
            "_view_count": null,
            "_view_module_version": "1.5.0",
            "orientation": "horizontal",
            "min": 0,
            "description_tooltip": null,
            "_model_module": "@jupyter-widgets/controls",
            "layout": "IPY_MODEL_f5708f37dba24f93bf62a0401d0b8496"
          }
        },
        "19961a054e454a1c8bde579f63335139": {
          "model_module": "@jupyter-widgets/controls",
          "model_name": "HTMLModel",
          "state": {
            "_view_name": "HTMLView",
            "style": "IPY_MODEL_90c431675213430e926aefe370b1dfe6",
            "_dom_classes": [],
            "description": "",
            "_model_name": "HTMLModel",
            "placeholder": "​",
            "_view_module": "@jupyter-widgets/controls",
            "_model_module_version": "1.5.0",
            "value": " 49260/50000 [00:00&lt;00:00, 85274.32 examples/s]",
            "_view_count": null,
            "_view_module_version": "1.5.0",
            "description_tooltip": null,
            "_model_module": "@jupyter-widgets/controls",
            "layout": "IPY_MODEL_56e8167e39de4204a32086ad862bcd16"
          }
        },
        "370b91f309d14ad4963deccfe1d50ea4": {
          "model_module": "@jupyter-widgets/controls",
          "model_name": "ProgressStyleModel",
          "state": {
            "_view_name": "StyleView",
            "_model_name": "ProgressStyleModel",
            "description_width": "initial",
            "_view_module": "@jupyter-widgets/base",
            "_model_module_version": "1.5.0",
            "_view_count": null,
            "_view_module_version": "1.2.0",
            "bar_color": null,
            "_model_module": "@jupyter-widgets/controls"
          }
        },
        "f5708f37dba24f93bf62a0401d0b8496": {
          "model_module": "@jupyter-widgets/base",
          "model_name": "LayoutModel",
          "state": {
            "_view_name": "LayoutView",
            "grid_template_rows": null,
            "right": null,
            "justify_content": null,
            "_view_module": "@jupyter-widgets/base",
            "overflow": null,
            "_model_module_version": "1.2.0",
            "_view_count": null,
            "flex_flow": null,
            "width": null,
            "min_width": null,
            "border": null,
            "align_items": null,
            "bottom": null,
            "_model_module": "@jupyter-widgets/base",
            "top": null,
            "grid_column": null,
            "overflow_y": null,
            "overflow_x": null,
            "grid_auto_flow": null,
            "grid_area": null,
            "grid_template_columns": null,
            "flex": null,
            "_model_name": "LayoutModel",
            "justify_items": null,
            "grid_row": null,
            "max_height": null,
            "align_content": null,
            "visibility": null,
            "align_self": null,
            "height": null,
            "min_height": null,
            "padding": null,
            "grid_auto_rows": null,
            "grid_gap": null,
            "max_width": null,
            "order": null,
            "_view_module_version": "1.2.0",
            "grid_template_areas": null,
            "object_position": null,
            "object_fit": null,
            "grid_auto_columns": null,
            "margin": null,
            "display": null,
            "left": null
          }
        },
        "90c431675213430e926aefe370b1dfe6": {
          "model_module": "@jupyter-widgets/controls",
          "model_name": "DescriptionStyleModel",
          "state": {
            "_view_name": "StyleView",
            "_model_name": "DescriptionStyleModel",
            "description_width": "",
            "_view_module": "@jupyter-widgets/base",
            "_model_module_version": "1.5.0",
            "_view_count": null,
            "_view_module_version": "1.2.0",
            "_model_module": "@jupyter-widgets/controls"
          }
        },
        "56e8167e39de4204a32086ad862bcd16": {
          "model_module": "@jupyter-widgets/base",
          "model_name": "LayoutModel",
          "state": {
            "_view_name": "LayoutView",
            "grid_template_rows": null,
            "right": null,
            "justify_content": null,
            "_view_module": "@jupyter-widgets/base",
            "overflow": null,
            "_model_module_version": "1.2.0",
            "_view_count": null,
            "flex_flow": null,
            "width": null,
            "min_width": null,
            "border": null,
            "align_items": null,
            "bottom": null,
            "_model_module": "@jupyter-widgets/base",
            "top": null,
            "grid_column": null,
            "overflow_y": null,
            "overflow_x": null,
            "grid_auto_flow": null,
            "grid_area": null,
            "grid_template_columns": null,
            "flex": null,
            "_model_name": "LayoutModel",
            "justify_items": null,
            "grid_row": null,
            "max_height": null,
            "align_content": null,
            "visibility": null,
            "align_self": null,
            "height": null,
            "min_height": null,
            "padding": null,
            "grid_auto_rows": null,
            "grid_gap": null,
            "max_width": null,
            "order": null,
            "_view_module_version": "1.2.0",
            "grid_template_areas": null,
            "object_position": null,
            "object_fit": null,
            "grid_auto_columns": null,
            "margin": null,
            "display": null,
            "left": null
          }
        },
        "84578ae7894a458eaef71fb88a6c29e2": {
          "model_module": "@jupyter-widgets/controls",
          "model_name": "HBoxModel",
          "state": {
            "_view_name": "HBoxView",
            "_dom_classes": [],
            "_model_name": "HBoxModel",
            "_view_module": "@jupyter-widgets/controls",
            "_model_module_version": "1.5.0",
            "_view_count": null,
            "_view_module_version": "1.5.0",
            "box_style": "",
            "layout": "IPY_MODEL_e1b3e972b27041f08d2590e553f24ea0",
            "_model_module": "@jupyter-widgets/controls",
            "children": [
              "IPY_MODEL_d9b6adfc5d6241fbaadfabf700ed9257",
              "IPY_MODEL_4d6cbd75c20c49899fa9741018082f4f"
            ]
          }
        },
        "e1b3e972b27041f08d2590e553f24ea0": {
          "model_module": "@jupyter-widgets/base",
          "model_name": "LayoutModel",
          "state": {
            "_view_name": "LayoutView",
            "grid_template_rows": null,
            "right": null,
            "justify_content": null,
            "_view_module": "@jupyter-widgets/base",
            "overflow": null,
            "_model_module_version": "1.2.0",
            "_view_count": null,
            "flex_flow": null,
            "width": null,
            "min_width": null,
            "border": null,
            "align_items": null,
            "bottom": null,
            "_model_module": "@jupyter-widgets/base",
            "top": null,
            "grid_column": null,
            "overflow_y": null,
            "overflow_x": null,
            "grid_auto_flow": null,
            "grid_area": null,
            "grid_template_columns": null,
            "flex": null,
            "_model_name": "LayoutModel",
            "justify_items": null,
            "grid_row": null,
            "max_height": null,
            "align_content": null,
            "visibility": null,
            "align_self": null,
            "height": null,
            "min_height": null,
            "padding": null,
            "grid_auto_rows": null,
            "grid_gap": null,
            "max_width": null,
            "order": null,
            "_view_module_version": "1.2.0",
            "grid_template_areas": null,
            "object_position": null,
            "object_fit": null,
            "grid_auto_columns": null,
            "margin": null,
            "display": null,
            "left": null
          }
        },
        "d9b6adfc5d6241fbaadfabf700ed9257": {
          "model_module": "@jupyter-widgets/controls",
          "model_name": "FloatProgressModel",
          "state": {
            "_view_name": "ProgressView",
            "style": "IPY_MODEL_4f1360f2be9f4ceb975f300b052584a7",
            "_dom_classes": [],
            "description": "",
            "_model_name": "FloatProgressModel",
            "bar_style": "info",
            "max": 1,
            "_view_module": "@jupyter-widgets/controls",
            "_model_module_version": "1.5.0",
            "value": 1,
            "_view_count": null,
            "_view_module_version": "1.5.0",
            "orientation": "horizontal",
            "min": 0,
            "description_tooltip": null,
            "_model_module": "@jupyter-widgets/controls",
            "layout": "IPY_MODEL_28a3bff2433c4578a82ac2996c0063e8"
          }
        },
        "4d6cbd75c20c49899fa9741018082f4f": {
          "model_module": "@jupyter-widgets/controls",
          "model_name": "HTMLModel",
          "state": {
            "_view_name": "HTMLView",
            "style": "IPY_MODEL_c9500d10e9654342a144f0a6d2f7362f",
            "_dom_classes": [],
            "description": "",
            "_model_name": "HTMLModel",
            "placeholder": "​",
            "_view_module": "@jupyter-widgets/controls",
            "_model_module_version": "1.5.0",
            "value": " 10000/0 [00:06&lt;00:00, 1631.75 examples/s]",
            "_view_count": null,
            "_view_module_version": "1.5.0",
            "description_tooltip": null,
            "_model_module": "@jupyter-widgets/controls",
            "layout": "IPY_MODEL_79479febe8ac4394a30c26caa8f59d58"
          }
        },
        "4f1360f2be9f4ceb975f300b052584a7": {
          "model_module": "@jupyter-widgets/controls",
          "model_name": "ProgressStyleModel",
          "state": {
            "_view_name": "StyleView",
            "_model_name": "ProgressStyleModel",
            "description_width": "initial",
            "_view_module": "@jupyter-widgets/base",
            "_model_module_version": "1.5.0",
            "_view_count": null,
            "_view_module_version": "1.2.0",
            "bar_color": null,
            "_model_module": "@jupyter-widgets/controls"
          }
        },
        "28a3bff2433c4578a82ac2996c0063e8": {
          "model_module": "@jupyter-widgets/base",
          "model_name": "LayoutModel",
          "state": {
            "_view_name": "LayoutView",
            "grid_template_rows": null,
            "right": null,
            "justify_content": null,
            "_view_module": "@jupyter-widgets/base",
            "overflow": null,
            "_model_module_version": "1.2.0",
            "_view_count": null,
            "flex_flow": null,
            "width": null,
            "min_width": null,
            "border": null,
            "align_items": null,
            "bottom": null,
            "_model_module": "@jupyter-widgets/base",
            "top": null,
            "grid_column": null,
            "overflow_y": null,
            "overflow_x": null,
            "grid_auto_flow": null,
            "grid_area": null,
            "grid_template_columns": null,
            "flex": null,
            "_model_name": "LayoutModel",
            "justify_items": null,
            "grid_row": null,
            "max_height": null,
            "align_content": null,
            "visibility": null,
            "align_self": null,
            "height": null,
            "min_height": null,
            "padding": null,
            "grid_auto_rows": null,
            "grid_gap": null,
            "max_width": null,
            "order": null,
            "_view_module_version": "1.2.0",
            "grid_template_areas": null,
            "object_position": null,
            "object_fit": null,
            "grid_auto_columns": null,
            "margin": null,
            "display": null,
            "left": null
          }
        },
        "c9500d10e9654342a144f0a6d2f7362f": {
          "model_module": "@jupyter-widgets/controls",
          "model_name": "DescriptionStyleModel",
          "state": {
            "_view_name": "StyleView",
            "_model_name": "DescriptionStyleModel",
            "description_width": "",
            "_view_module": "@jupyter-widgets/base",
            "_model_module_version": "1.5.0",
            "_view_count": null,
            "_view_module_version": "1.2.0",
            "_model_module": "@jupyter-widgets/controls"
          }
        },
        "79479febe8ac4394a30c26caa8f59d58": {
          "model_module": "@jupyter-widgets/base",
          "model_name": "LayoutModel",
          "state": {
            "_view_name": "LayoutView",
            "grid_template_rows": null,
            "right": null,
            "justify_content": null,
            "_view_module": "@jupyter-widgets/base",
            "overflow": null,
            "_model_module_version": "1.2.0",
            "_view_count": null,
            "flex_flow": null,
            "width": null,
            "min_width": null,
            "border": null,
            "align_items": null,
            "bottom": null,
            "_model_module": "@jupyter-widgets/base",
            "top": null,
            "grid_column": null,
            "overflow_y": null,
            "overflow_x": null,
            "grid_auto_flow": null,
            "grid_area": null,
            "grid_template_columns": null,
            "flex": null,
            "_model_name": "LayoutModel",
            "justify_items": null,
            "grid_row": null,
            "max_height": null,
            "align_content": null,
            "visibility": null,
            "align_self": null,
            "height": null,
            "min_height": null,
            "padding": null,
            "grid_auto_rows": null,
            "grid_gap": null,
            "max_width": null,
            "order": null,
            "_view_module_version": "1.2.0",
            "grid_template_areas": null,
            "object_position": null,
            "object_fit": null,
            "grid_auto_columns": null,
            "margin": null,
            "display": null,
            "left": null
          }
        },
        "f0fe1b3551f94a5ca08033d4ee876ca3": {
          "model_module": "@jupyter-widgets/controls",
          "model_name": "HBoxModel",
          "state": {
            "_view_name": "HBoxView",
            "_dom_classes": [],
            "_model_name": "HBoxModel",
            "_view_module": "@jupyter-widgets/controls",
            "_model_module_version": "1.5.0",
            "_view_count": null,
            "_view_module_version": "1.5.0",
            "box_style": "",
            "layout": "IPY_MODEL_968b43edc67747a1a09bba16facb74b3",
            "_model_module": "@jupyter-widgets/controls",
            "children": [
              "IPY_MODEL_e9ea45070c69490285674b3914c56efa",
              "IPY_MODEL_d16fff2a8f1044e197f1316f8b2a8844"
            ]
          }
        },
        "968b43edc67747a1a09bba16facb74b3": {
          "model_module": "@jupyter-widgets/base",
          "model_name": "LayoutModel",
          "state": {
            "_view_name": "LayoutView",
            "grid_template_rows": null,
            "right": null,
            "justify_content": null,
            "_view_module": "@jupyter-widgets/base",
            "overflow": null,
            "_model_module_version": "1.2.0",
            "_view_count": null,
            "flex_flow": null,
            "width": null,
            "min_width": null,
            "border": null,
            "align_items": null,
            "bottom": null,
            "_model_module": "@jupyter-widgets/base",
            "top": null,
            "grid_column": null,
            "overflow_y": null,
            "overflow_x": null,
            "grid_auto_flow": null,
            "grid_area": null,
            "grid_template_columns": null,
            "flex": null,
            "_model_name": "LayoutModel",
            "justify_items": null,
            "grid_row": null,
            "max_height": null,
            "align_content": null,
            "visibility": null,
            "align_self": null,
            "height": null,
            "min_height": null,
            "padding": null,
            "grid_auto_rows": null,
            "grid_gap": null,
            "max_width": null,
            "order": null,
            "_view_module_version": "1.2.0",
            "grid_template_areas": null,
            "object_position": null,
            "object_fit": null,
            "grid_auto_columns": null,
            "margin": null,
            "display": null,
            "left": null
          }
        },
        "e9ea45070c69490285674b3914c56efa": {
          "model_module": "@jupyter-widgets/controls",
          "model_name": "FloatProgressModel",
          "state": {
            "_view_name": "ProgressView",
            "style": "IPY_MODEL_4cece83deacf48c5ae84971d1bfc1aeb",
            "_dom_classes": [],
            "description": " 93%",
            "_model_name": "FloatProgressModel",
            "bar_style": "danger",
            "max": 10000,
            "_view_module": "@jupyter-widgets/controls",
            "_model_module_version": "1.5.0",
            "value": 9321,
            "_view_count": null,
            "_view_module_version": "1.5.0",
            "orientation": "horizontal",
            "min": 0,
            "description_tooltip": null,
            "_model_module": "@jupyter-widgets/controls",
            "layout": "IPY_MODEL_9086564f3d0049e68b67fa653cb9a732"
          }
        },
        "d16fff2a8f1044e197f1316f8b2a8844": {
          "model_module": "@jupyter-widgets/controls",
          "model_name": "HTMLModel",
          "state": {
            "_view_name": "HTMLView",
            "style": "IPY_MODEL_236e3af02db04bb7b56680adfed1d1b5",
            "_dom_classes": [],
            "description": "",
            "_model_name": "HTMLModel",
            "placeholder": "​",
            "_view_module": "@jupyter-widgets/controls",
            "_model_module_version": "1.5.0",
            "value": " 9321/10000 [00:00&lt;00:00, 93208.31 examples/s]",
            "_view_count": null,
            "_view_module_version": "1.5.0",
            "description_tooltip": null,
            "_model_module": "@jupyter-widgets/controls",
            "layout": "IPY_MODEL_1f2a5d6945854d6682f973713b7987af"
          }
        },
        "4cece83deacf48c5ae84971d1bfc1aeb": {
          "model_module": "@jupyter-widgets/controls",
          "model_name": "ProgressStyleModel",
          "state": {
            "_view_name": "StyleView",
            "_model_name": "ProgressStyleModel",
            "description_width": "initial",
            "_view_module": "@jupyter-widgets/base",
            "_model_module_version": "1.5.0",
            "_view_count": null,
            "_view_module_version": "1.2.0",
            "bar_color": null,
            "_model_module": "@jupyter-widgets/controls"
          }
        },
        "9086564f3d0049e68b67fa653cb9a732": {
          "model_module": "@jupyter-widgets/base",
          "model_name": "LayoutModel",
          "state": {
            "_view_name": "LayoutView",
            "grid_template_rows": null,
            "right": null,
            "justify_content": null,
            "_view_module": "@jupyter-widgets/base",
            "overflow": null,
            "_model_module_version": "1.2.0",
            "_view_count": null,
            "flex_flow": null,
            "width": null,
            "min_width": null,
            "border": null,
            "align_items": null,
            "bottom": null,
            "_model_module": "@jupyter-widgets/base",
            "top": null,
            "grid_column": null,
            "overflow_y": null,
            "overflow_x": null,
            "grid_auto_flow": null,
            "grid_area": null,
            "grid_template_columns": null,
            "flex": null,
            "_model_name": "LayoutModel",
            "justify_items": null,
            "grid_row": null,
            "max_height": null,
            "align_content": null,
            "visibility": null,
            "align_self": null,
            "height": null,
            "min_height": null,
            "padding": null,
            "grid_auto_rows": null,
            "grid_gap": null,
            "max_width": null,
            "order": null,
            "_view_module_version": "1.2.0",
            "grid_template_areas": null,
            "object_position": null,
            "object_fit": null,
            "grid_auto_columns": null,
            "margin": null,
            "display": null,
            "left": null
          }
        },
        "236e3af02db04bb7b56680adfed1d1b5": {
          "model_module": "@jupyter-widgets/controls",
          "model_name": "DescriptionStyleModel",
          "state": {
            "_view_name": "StyleView",
            "_model_name": "DescriptionStyleModel",
            "description_width": "",
            "_view_module": "@jupyter-widgets/base",
            "_model_module_version": "1.5.0",
            "_view_count": null,
            "_view_module_version": "1.2.0",
            "_model_module": "@jupyter-widgets/controls"
          }
        },
        "1f2a5d6945854d6682f973713b7987af": {
          "model_module": "@jupyter-widgets/base",
          "model_name": "LayoutModel",
          "state": {
            "_view_name": "LayoutView",
            "grid_template_rows": null,
            "right": null,
            "justify_content": null,
            "_view_module": "@jupyter-widgets/base",
            "overflow": null,
            "_model_module_version": "1.2.0",
            "_view_count": null,
            "flex_flow": null,
            "width": null,
            "min_width": null,
            "border": null,
            "align_items": null,
            "bottom": null,
            "_model_module": "@jupyter-widgets/base",
            "top": null,
            "grid_column": null,
            "overflow_y": null,
            "overflow_x": null,
            "grid_auto_flow": null,
            "grid_area": null,
            "grid_template_columns": null,
            "flex": null,
            "_model_name": "LayoutModel",
            "justify_items": null,
            "grid_row": null,
            "max_height": null,
            "align_content": null,
            "visibility": null,
            "align_self": null,
            "height": null,
            "min_height": null,
            "padding": null,
            "grid_auto_rows": null,
            "grid_gap": null,
            "max_width": null,
            "order": null,
            "_view_module_version": "1.2.0",
            "grid_template_areas": null,
            "object_position": null,
            "object_fit": null,
            "grid_auto_columns": null,
            "margin": null,
            "display": null,
            "left": null
          }
        }
      }
    }
  },
  "cells": [
    {
      "cell_type": "code",
      "metadata": {
        "id": "supKURL0RHHE",
        "colab_type": "code",
        "outputId": "8dba82c3-6e53-4e65-dc16-0ccb7b4f453c",
        "colab": {
          "base_uri": "https://localhost:8080/",
          "height": 34
        }
      },
      "source": [
        "!pip install -q git+https://www.github.com/google/neural-tangents\n",
        "import neural_tangents as nt\n",
        "from neural_tangents import stax\n"
      ],
      "execution_count": 0,
      "outputs": [
        {
          "output_type": "stream",
          "text": [
            "  Building wheel for neural-tangents (setup.py) ... \u001b[?25l\u001b[?25hdone\n"
          ],
          "name": "stdout"
        }
      ]
    },
    {
      "cell_type": "markdown",
      "metadata": {
        "id": "XUj0iu7hnPJt",
        "colab_type": "text"
      },
      "source": [
        ""
      ]
    },
    {
      "cell_type": "code",
      "metadata": {
        "id": "KtmaJLr9RM10",
        "colab_type": "code",
        "outputId": "a4fe7279-fcce-4fa0-ef64-0defd11bbc17",
        "colab": {
          "base_uri": "https://localhost:8080/",
          "height": 34
        }
      },
      "source": [
        "import numpy as np\n",
        "import matplotlib.pyplot as plt\n",
        "import pandas as pd\n",
        "import jax.numpy as jnp\n",
        "from jax import random\n",
        "from jax.api import jit, grad, vmap\n",
        "from jax.experimental import optimizers\n",
        "from jax import device_put\n",
        "import timeit\n",
        "import matplotlib.pyplot as plt\n",
        "import tensorflow_datasets as tfds\n",
        "from functools import partial\n",
        "import scipy as sp\n",
        "import scipy.special\n",
        "import math\n",
        "import tensorflow as tf\n",
        "import sys\n",
        "import sklearn\n",
        "from google.colab import drive\n",
        "drive.mount('/content/drive')"
      ],
      "execution_count": 0,
      "outputs": [
        {
          "output_type": "stream",
          "text": [
            "Drive already mounted at /content/drive; to attempt to forcibly remount, call drive.mount(\"/content/drive\", force_remount=True).\n"
          ],
          "name": "stdout"
        }
      ]
    },
    {
      "cell_type": "code",
      "metadata": {
        "id": "p_oBG2DMUDJn",
        "colab_type": "code",
        "outputId": "05bfc631-b497-4fdf-d6d4-e2136d1ae106",
        "colab": {
          "base_uri": "https://localhost:8080/",
          "height": 405,
          "referenced_widgets": [
            "07a3bc713f4b4bb48d30dc7281042ee6",
            "7fb2777282e1408d8abc73b07cf131d0",
            "3b8707c247874ea3810f141210722ec9",
            "b0d7ad4e6a5d464c97966e1fa957980b",
            "bf0a938abbaf40418f29222374dba6f7",
            "d1549530d19d40b5a028022268da15a5",
            "dc672483912f44108f64a25b716799ef",
            "91d26e307ca6436db63d0e2918621581",
            "8d7dea87c0464d8fbed1d6d9652fdf14",
            "8def80143c524977b8ed3abfbc81f69e",
            "c0136221ed38436abd395e79ce6019ef",
            "08f29c0ac5274f8c8c722751a0955e71",
            "8fe0cd08d52740d1a9f5e0bc50694d0e",
            "818b308abedb4651b6aecaf440dfb0d0",
            "1349ea80f3364b7a83644cecf77a496f",
            "9937bb2d8d60459cbaba61f42d4f5c0b",
            "6efc0c75c3944337b5e84656bca1616f",
            "4b2bed88335245b7b6f70d232b3eb6e4",
            "5f003081191f473697b7d74503339e57",
            "24eab4c5daf546bb9748e1ea52eb88c6",
            "903ef1a9ff2847d6864775d560ef42c0",
            "467790da28ca4b0d934971708f413759",
            "2d12784722744450b204ae2c9383f050",
            "590dc3da38a04680bfe83b7a61574403",
            "d8c0411ebe064ab193eb7797f85da4a2",
            "0d6f85bb5b03499b95adf4579f303817",
            "6fc2151e4c9c43e2b659b1256802d137",
            "5f0a3e0761594aeaa63202bf854e45b4",
            "c30e3af46c3d46c1b0a36c2949683ad1",
            "a9ff0072d4394f0398e2cb2ba61e1a32",
            "e3b2fc5d3ffd4635ba17a6145433bf70",
            "852f34575c1d49b0a60fa402636f4306",
            "f849f95f7bd4483e9df1afdb81775a5a",
            "3081bd79f4054538a734d2826371a8e0",
            "1f042259fc7642da9856415be4a84146",
            "19961a054e454a1c8bde579f63335139",
            "370b91f309d14ad4963deccfe1d50ea4",
            "f5708f37dba24f93bf62a0401d0b8496",
            "90c431675213430e926aefe370b1dfe6",
            "56e8167e39de4204a32086ad862bcd16",
            "84578ae7894a458eaef71fb88a6c29e2",
            "e1b3e972b27041f08d2590e553f24ea0",
            "d9b6adfc5d6241fbaadfabf700ed9257",
            "4d6cbd75c20c49899fa9741018082f4f",
            "4f1360f2be9f4ceb975f300b052584a7",
            "28a3bff2433c4578a82ac2996c0063e8",
            "c9500d10e9654342a144f0a6d2f7362f",
            "79479febe8ac4394a30c26caa8f59d58",
            "f0fe1b3551f94a5ca08033d4ee876ca3",
            "968b43edc67747a1a09bba16facb74b3",
            "e9ea45070c69490285674b3914c56efa",
            "d16fff2a8f1044e197f1316f8b2a8844",
            "4cece83deacf48c5ae84971d1bfc1aeb",
            "9086564f3d0049e68b67fa653cb9a732",
            "236e3af02db04bb7b56680adfed1d1b5",
            "1f2a5d6945854d6682f973713b7987af"
          ]
        }
      },
      "source": [
        "# process the data \n",
        "def process_data(batch_block):\n",
        "  image, label = batch_block['image'], batch_block['label']\n",
        "  samples = image.shape[0]\n",
        "  image = tf.image.rgb_to_grayscale(image).numpy()\n",
        "  image = jnp.reshape(image, (image.shape[0], 32*32))\n",
        "  image = jnp.array(image, dtype = np.float32)\n",
        "  label = jnp.eye(10)[label]\n",
        "  return {'image': image, 'label': label}\n",
        "\n",
        "\n",
        "batch_size = 128\n",
        "training_epochs = 5\n",
        "test_data = tfds.load('cifar10', split=tfds.Split.TEST)\n",
        "train_data = tfds.load('cifar10', split=tfds.Split.TRAIN)\n",
        "train_data_shuff = tfds.as_numpy(\n",
        "    train_data.shuffle(1024).batch(batch_size).repeat(training_epochs))\n",
        "test_data_shuff = tfds.as_numpy(\n",
        "    train_data.shuffle(1024).batch(batch_size))\n",
        "\n"
      ],
      "execution_count": 0,
      "outputs": [
        {
          "output_type": "stream",
          "text": [
            "\u001b[1mDownloading and preparing dataset cifar10/3.0.0 (download: 162.17 MiB, generated: Unknown size, total: 162.17 MiB) to /root/tensorflow_datasets/cifar10/3.0.0...\u001b[0m\n"
          ],
          "name": "stdout"
        },
        {
          "output_type": "display_data",
          "data": {
            "application/vnd.jupyter.widget-view+json": {
              "model_id": "07a3bc713f4b4bb48d30dc7281042ee6",
              "version_minor": 0,
              "version_major": 2
            },
            "text/plain": [
              "HBox(children=(FloatProgress(value=1.0, bar_style='info', description='Dl Completed...', max=1.0, style=Progre…"
            ]
          },
          "metadata": {
            "tags": []
          }
        },
        {
          "output_type": "display_data",
          "data": {
            "application/vnd.jupyter.widget-view+json": {
              "model_id": "8d7dea87c0464d8fbed1d6d9652fdf14",
              "version_minor": 0,
              "version_major": 2
            },
            "text/plain": [
              "HBox(children=(FloatProgress(value=1.0, bar_style='info', description='Dl Size...', max=1.0, style=ProgressSty…"
            ]
          },
          "metadata": {
            "tags": []
          }
        },
        {
          "output_type": "display_data",
          "data": {
            "application/vnd.jupyter.widget-view+json": {
              "model_id": "6efc0c75c3944337b5e84656bca1616f",
              "version_minor": 0,
              "version_major": 2
            },
            "text/plain": [
              "HBox(children=(FloatProgress(value=1.0, bar_style='info', description='Extraction completed...', max=1.0, styl…"
            ]
          },
          "metadata": {
            "tags": []
          }
        },
        {
          "output_type": "stream",
          "text": [
            "/usr/local/lib/python3.6/dist-packages/urllib3/connectionpool.py:847: InsecureRequestWarning: Unverified HTTPS request is being made. Adding certificate verification is strongly advised. See: https://urllib3.readthedocs.io/en/latest/advanced-usage.html#ssl-warnings\n",
            "  InsecureRequestWarning)\n"
          ],
          "name": "stderr"
        },
        {
          "output_type": "stream",
          "text": [
            "\n",
            "\n",
            "\n",
            "\n",
            "\n",
            "\n"
          ],
          "name": "stdout"
        },
        {
          "output_type": "display_data",
          "data": {
            "application/vnd.jupyter.widget-view+json": {
              "model_id": "d8c0411ebe064ab193eb7797f85da4a2",
              "version_minor": 0,
              "version_major": 2
            },
            "text/plain": [
              "HBox(children=(FloatProgress(value=1.0, bar_style='info', max=1.0), HTML(value='')))"
            ]
          },
          "metadata": {
            "tags": []
          }
        },
        {
          "output_type": "stream",
          "text": [
            "\rShuffling and writing examples to /root/tensorflow_datasets/cifar10/3.0.0.incompleteYXLJII/cifar10-train.tfrecord\n"
          ],
          "name": "stdout"
        },
        {
          "output_type": "display_data",
          "data": {
            "application/vnd.jupyter.widget-view+json": {
              "model_id": "f849f95f7bd4483e9df1afdb81775a5a",
              "version_minor": 0,
              "version_major": 2
            },
            "text/plain": [
              "HBox(children=(FloatProgress(value=0.0, max=50000.0), HTML(value='')))"
            ]
          },
          "metadata": {
            "tags": []
          }
        },
        {
          "output_type": "stream",
          "text": [
            "\r"
          ],
          "name": "stdout"
        },
        {
          "output_type": "display_data",
          "data": {
            "application/vnd.jupyter.widget-view+json": {
              "model_id": "84578ae7894a458eaef71fb88a6c29e2",
              "version_minor": 0,
              "version_major": 2
            },
            "text/plain": [
              "HBox(children=(FloatProgress(value=1.0, bar_style='info', max=1.0), HTML(value='')))"
            ]
          },
          "metadata": {
            "tags": []
          }
        },
        {
          "output_type": "stream",
          "text": [
            "\rShuffling and writing examples to /root/tensorflow_datasets/cifar10/3.0.0.incompleteYXLJII/cifar10-test.tfrecord\n"
          ],
          "name": "stdout"
        },
        {
          "output_type": "display_data",
          "data": {
            "application/vnd.jupyter.widget-view+json": {
              "model_id": "f0fe1b3551f94a5ca08033d4ee876ca3",
              "version_minor": 0,
              "version_major": 2
            },
            "text/plain": [
              "HBox(children=(FloatProgress(value=0.0, max=10000.0), HTML(value='')))"
            ]
          },
          "metadata": {
            "tags": []
          }
        },
        {
          "output_type": "stream",
          "text": [
            "\u001b[1mDataset cifar10 downloaded and prepared to /root/tensorflow_datasets/cifar10/3.0.0. Subsequent calls will reuse this data.\u001b[0m\n",
            "\r"
          ],
          "name": "stdout"
        }
      ]
    },
    {
      "cell_type": "code",
      "metadata": {
        "id": "_BjfKqQdRPod",
        "colab_type": "code",
        "colab": {}
      },
      "source": [
        "# let's just do vanilla CNN\n",
        "def ConvolutionalNetwork(depth, channels):\n",
        "  layers = []\n",
        "  for _ in range(depth):\n",
        "    layers += [stax.Conv(channels, (3, 3), padding='SAME'), stax.Relu()]\n",
        "  layers += [stax.Flatten(), stax.Dense(10)]\n",
        "  return stax.serial(*layers)\n",
        "\n",
        "def FullyConnected(depth, width):\n",
        "  layers = []\n",
        "  for _ in range(depth):\n",
        "    layers += [stax.Dense(width), stax.Relu()]\n",
        "  layers += [stax.Dense(10)]\n",
        "  return stax.serial(*layers)\n",
        "\n",
        "\n",
        "depth = 3\n",
        "channels = 1000\n",
        "\n",
        "# init_fn gives parameters; apply_fn computes NN output, kernel_fn: infinite #channels limit\n",
        "#init_fn, apply_fn, kernel_fn = ConvolutionalNetwork(depth, channels)\n",
        "init_fn, apply_fn, kernel_fn = FullyConnected(depth, channels)\n",
        "\n",
        "\n",
        "\n",
        "key = random.PRNGKey(2020)\n"
      ],
      "execution_count": 0,
      "outputs": []
    },
    {
      "cell_type": "code",
      "metadata": {
        "id": "AFddxqLgXJfq",
        "colab_type": "code",
        "colab": {}
      },
      "source": [
        "# get initial parameters\n",
        "_, params = init_fn(key, (-1, 1024))\n",
        "\n",
        "# define optimizer \n",
        "lr = 1e-2\n",
        "opt_init, opt_update, get_params = optimizers.adam(lr)\n",
        "\n",
        "# define a supervised loss \n",
        "nn_loss = jit(lambda params, X, y: jnp.mean((apply_fn(params, X) - y )**2 ))\n",
        "grad_loss = jit(lambda state, x, y: grad(nn_loss)(get_params(state), x, y))\n",
        "\n",
        "soft_max = jit(lambda z: jnp.exp(z) / jnp.outer(jnp.sum(jnp.exp(z), axis=1), jnp.ones(z.shape[1])))\n",
        "predict = jit(lambda params, X: soft_max(apply_fn(params, X)))\n",
        "nn_loss_cross = jit(lambda params, X, y: - jnp.mean(y * jnp.log(predict(params, X))))\n",
        "grad_loss_cross = jit(lambda state, x, y: grad(nn_loss_cross)(get_params(state), x, y))"
      ],
      "execution_count": 0,
      "outputs": []
    },
    {
      "cell_type": "code",
      "metadata": {
        "id": "k3-KyYVH2JVV",
        "colab_type": "code",
        "colab": {}
      },
      "source": [
        "M = 1000\n",
        "train_blocks = tfds.as_numpy(train_data.shuffle(1024).batch(M))\n",
        "\n",
        "all_data = np.zeros((50000, 1024))\n",
        "all_labels = np.zeros((50000, 10))\n",
        "for i, batch in enumerate(train_blocks):\n",
        "  data = process_data(batch)\n",
        "  image = data['image']\n",
        "  label = data['label']\n",
        "  all_data[i*M:(i+1)*M,:] = image / 255.\n",
        "  all_labels[i*M:(i+1)*M,:] = label\n",
        "\n",
        "\n"
      ],
      "execution_count": 0,
      "outputs": []
    },
    {
      "cell_type": "code",
      "metadata": {
        "id": "mKVj0KnCa6Pc",
        "colab_type": "code",
        "colab": {}
      },
      "source": [
        "images = []\n",
        "labels = []\n",
        "for data in test_data_shuff:\n",
        "  data_i = process_data(data)\n",
        "  image = data_i['image'] / 255.\n",
        "  label = data_i['label']\n",
        "  images.append(image)\n",
        "  labels.append(label)\n",
        "\n",
        "test_images = np.concatenate(images)\n",
        "test_labels = np.concatenate(labels)"
      ],
      "execution_count": 0,
      "outputs": []
    },
    {
      "cell_type": "markdown",
      "metadata": {
        "id": "vzQbNbLPqBmS",
        "colab_type": "text"
      },
      "source": [
        "## try kernel method (covariance between test and train)"
      ]
    },
    {
      "cell_type": "code",
      "metadata": {
        "id": "4F-BOcMAyxvH",
        "colab_type": "code",
        "colab": {}
      },
      "source": [
        "test_data = tfds.load('cifar10', split=tfds.Split.TEST)\n",
        "train_data = tfds.load('cifar10', split=tfds.Split.TRAIN)\n",
        "train_data_shuff = tfds.as_numpy(\n",
        "    train_data.shuffle(1024).batch(1))\n",
        "test_data_shuff = tfds.as_numpy(\n",
        "    test_data.shuffle(1024).batch(1))"
      ],
      "execution_count": 0,
      "outputs": []
    },
    {
      "cell_type": "code",
      "metadata": {
        "id": "WhoXPJpryzXQ",
        "colab_type": "code",
        "colab": {}
      },
      "source": [
        "train_images = []\n",
        "train_labels = []\n",
        "for i, a in enumerate(train_data_shuff):\n",
        "  if i == 40:\n",
        "    break\n",
        "  image = a[\"image\"]/255\n",
        "  label = jnp.eye(10)[a[\"label\"]]\n",
        "  train_images.append(image)\n",
        "  train_labels.append(label)"
      ],
      "execution_count": 0,
      "outputs": []
    },
    {
      "cell_type": "code",
      "metadata": {
        "id": "VCXVO5E_v_4w",
        "colab_type": "code",
        "colab": {}
      },
      "source": [
        "#from neural_tangents import stax\n",
        "def WideResnetBlock(channels, strides=(1, 1), channel_mismatch=False):\n",
        "  Main = stax.serial(\n",
        "      stax.Relu(), stax.Conv(channels, (3, 3), strides, padding='SAME'),\n",
        "      stax.Relu(), stax.Conv(channels, (3, 3), padding='SAME'))\n",
        "  Shortcut = stax.Identity() if not channel_mismatch else stax.Conv(\n",
        "      channels, (3, 3), strides, padding='SAME')\n",
        "  return stax.serial(stax.FanOut(2),\n",
        "                     stax.parallel(Main, Shortcut),\n",
        "                     stax.FanInSum())\n",
        "\n",
        "def WideResnetGroup(n, channels, strides=(1, 1)):\n",
        "  blocks = []\n",
        "  blocks += [WideResnetBlock(channels, strides, channel_mismatch=True)]\n",
        "  for _ in range(n - 1):\n",
        "    blocks += [WideResnetBlock(channels, (1, 1))]\n",
        "  return stax.serial(*blocks)\n",
        "\n",
        "def WideResnet(block_size, k, num_classes):\n",
        "  return stax.serial(\n",
        "      stax.Conv(16, (3, 3), padding='SAME'),\n",
        "      WideResnetGroup(block_size, int(16 * k)),\n",
        "      WideResnetGroup(block_size, int(32 * k), (2, 2)),\n",
        "      WideResnetGroup(block_size, int(64 * k), (2, 2)),\n",
        "      stax.AvgPool((8, 8)),\n",
        "      stax.Flatten(),\n",
        "      stax.Dense(num_classes, 1., 0.))\n",
        "\n",
        "init_fn, apply_fn, kernel_fn = WideResnet(block_size=4, k=1, num_classes=10)"
      ],
      "execution_count": 0,
      "outputs": []
    },
    {
      "cell_type": "code",
      "metadata": {
        "id": "mZkQ7Ia9wsox",
        "colab_type": "code",
        "outputId": "21f9226a-6aff-4e1b-cd94-52ae3d4a230a",
        "colab": {
          "base_uri": "https://localhost:8080/",
          "height": 71
        }
      },
      "source": [
        "ntk = kernel_fn(train_images[0], train_images[1], 'ntk')"
      ],
      "execution_count": 0,
      "outputs": [
        {
          "output_type": "stream",
          "text": [
            "/usr/local/lib/python3.6/dist-packages/neural_tangents/stax.py:2345: UserWarning: `FanIn` layers assume independent inputs which is not verified in the code. Please make sure to have at least one `Dense` / `Conv` / `GlobalSenfAttention` etc. layer in each branch.\n",
            "  warnings.warn('`FanIn` layers assume independent inputs which is not verified'\n"
          ],
          "name": "stderr"
        }
      ]
    },
    {
      "cell_type": "code",
      "metadata": {
        "id": "bUZrEaNQp6ih",
        "colab_type": "code",
        "colab": {}
      },
      "source": [
        "train_images_10 = all_data[:10, :]\n",
        "train_labels_10 = all_labels[:10]\n",
        "test_images_10 = all_data[10:20, :]\n",
        "test_labels_10 = all_labels[10:20, :]"
      ],
      "execution_count": 0,
      "outputs": []
    },
    {
      "cell_type": "code",
      "metadata": {
        "id": "QL0fuiKfqkSP",
        "colab_type": "code",
        "colab": {}
      },
      "source": [
        "init_fn, apply_fn, kernel_fn = FullyConnected(40, 128)"
      ],
      "execution_count": 0,
      "outputs": []
    },
    {
      "cell_type": "code",
      "metadata": {
        "id": "aCAeeatVzzXC",
        "colab_type": "code",
        "outputId": "edb0c4ef-2c9d-436f-ca94-8cda27dc5048",
        "colab": {
          "base_uri": "https://localhost:8080/",
          "height": 71
        }
      },
      "source": [
        "y_test_ntk = nt.predict.gp_inference(kernel_fn, train_images[0], train_labels[0], train_images[1], get='ntk')"
      ],
      "execution_count": 0,
      "outputs": [
        {
          "output_type": "stream",
          "text": [
            "/usr/local/lib/python3.6/dist-packages/neural_tangents/stax.py:2345: UserWarning: `FanIn` layers assume independent inputs which is not verified in the code. Please make sure to have at least one `Dense` / `Conv` / `GlobalSenfAttention` etc. layer in each branch.\n",
            "  warnings.warn('`FanIn` layers assume independent inputs which is not verified'\n"
          ],
          "name": "stderr"
        }
      ]
    },
    {
      "cell_type": "code",
      "metadata": {
        "id": "o6FnS7OP0D30",
        "colab_type": "code",
        "outputId": "3951a239-c4fe-4964-c8db-308f30412b21",
        "colab": {
          "base_uri": "https://localhost:8080/",
          "height": 51
        }
      },
      "source": [
        "y_test_ntk"
      ],
      "execution_count": 0,
      "outputs": [
        {
          "output_type": "execute_result",
          "data": {
            "text/plain": [
              "DeviceArray([[0.       , 0.       , 0.7584808, 0.       , 0.       ,\n",
              "              0.       , 0.       , 0.       , 0.       , 0.       ]],            dtype=float32)"
            ]
          },
          "metadata": {
            "tags": []
          },
          "execution_count": 96
        }
      ]
    },
    {
      "cell_type": "code",
      "metadata": {
        "id": "IqCc-qCK0LFs",
        "colab_type": "code",
        "outputId": "ad53ed8b-486c-4bb6-98e6-1cc2e766c3ba",
        "colab": {
          "base_uri": "https://localhost:8080/",
          "height": 34
        }
      },
      "source": [
        "train_labels[1]"
      ],
      "execution_count": 0,
      "outputs": [
        {
          "output_type": "execute_result",
          "data": {
            "text/plain": [
              "DeviceArray([[0., 1., 0., 0., 0., 0., 0., 0., 0., 0.]], dtype=float32)"
            ]
          },
          "metadata": {
            "tags": []
          },
          "execution_count": 99
        }
      ]
    },
    {
      "cell_type": "code",
      "metadata": {
        "id": "39D0sIdgrHB3",
        "colab_type": "code",
        "outputId": "00f400a3-abf9-409a-ca3c-15bb4f3fcc23",
        "colab": {
          "base_uri": "https://localhost:8080/",
          "height": 34
        }
      },
      "source": [
        "sum(np.argmax(test_labels_10, axis=1) == np.argmax(y_test_ntk, axis=1))"
      ],
      "execution_count": 0,
      "outputs": [
        {
          "output_type": "execute_result",
          "data": {
            "text/plain": [
              "2"
            ]
          },
          "metadata": {
            "tags": []
          },
          "execution_count": 58
        }
      ]
    },
    {
      "cell_type": "code",
      "metadata": {
        "id": "0vPZSregrELB",
        "colab_type": "code",
        "colab": {}
      },
      "source": [
        "y_test_nngp = nt.predict.gp_inference(kernel_fn, train_images_10, train_labels_10, \n",
        "                                      test_images_10, get='nngp')\n",
        "# (20, 1) np.ndarray test predictions of an infinite Bayesian network\n",
        "\n"
      ],
      "execution_count": 0,
      "outputs": []
    },
    {
      "cell_type": "code",
      "metadata": {
        "id": "GuFlDk0TrYCQ",
        "colab_type": "code",
        "outputId": "9391c937-cd20-4398-f643-7b38e917f2d8",
        "colab": {
          "base_uri": "https://localhost:8080/",
          "height": 187
        }
      },
      "source": [
        "test_labels_10"
      ],
      "execution_count": 0,
      "outputs": [
        {
          "output_type": "execute_result",
          "data": {
            "text/plain": [
              "array([[1., 0., 0., 0., 0., 0., 0., 0., 0., 0.],\n",
              "       [0., 0., 0., 0., 1., 0., 0., 0., 0., 0.],\n",
              "       [0., 0., 0., 0., 0., 0., 0., 1., 0., 0.],\n",
              "       [0., 0., 0., 0., 0., 0., 0., 1., 0., 0.],\n",
              "       [0., 0., 0., 1., 0., 0., 0., 0., 0., 0.],\n",
              "       [1., 0., 0., 0., 0., 0., 0., 0., 0., 0.],\n",
              "       [0., 0., 0., 0., 0., 0., 0., 0., 0., 1.],\n",
              "       [0., 0., 0., 1., 0., 0., 0., 0., 0., 0.],\n",
              "       [0., 0., 0., 0., 0., 0., 0., 0., 1., 0.],\n",
              "       [0., 0., 0., 0., 0., 1., 0., 0., 0., 0.]])"
            ]
          },
          "metadata": {
            "tags": []
          },
          "execution_count": 30
        }
      ]
    },
    {
      "cell_type": "code",
      "metadata": {
        "id": "9znbwgsQrq4s",
        "colab_type": "code",
        "outputId": "ac6f6747-7083-4355-947d-2f2a2d4716d3",
        "colab": {
          "base_uri": "https://localhost:8080/",
          "height": 34
        }
      },
      "source": [
        ""
      ],
      "execution_count": 0,
      "outputs": [
        {
          "output_type": "execute_result",
          "data": {
            "text/plain": [
              "2"
            ]
          },
          "metadata": {
            "tags": []
          },
          "execution_count": 34
        }
      ]
    },
    {
      "cell_type": "code",
      "metadata": {
        "id": "wtF4nBZ5r84J",
        "colab_type": "code",
        "outputId": "0fc96b1b-2a4e-4865-c62b-4444aa011fbe",
        "colab": {
          "base_uri": "https://localhost:8080/",
          "height": 34
        }
      },
      "source": [
        "np.argmax(y_test_ntk, axis=1)"
      ],
      "execution_count": 0,
      "outputs": [
        {
          "output_type": "execute_result",
          "data": {
            "text/plain": [
              "array([7, 2, 7, 7, 4, 4, 7, 4, 2, 4])"
            ]
          },
          "metadata": {
            "tags": []
          },
          "execution_count": 32
        }
      ]
    },
    {
      "cell_type": "code",
      "metadata": {
        "id": "doBR2DXvrUeK",
        "colab_type": "code",
        "outputId": "dc73ce8e-d8b1-4b64-9a4b-b56a6893dde7",
        "colab": {
          "base_uri": "https://localhost:8080/",
          "height": 34
        }
      },
      "source": [
        "np.argmax(y_test_nngp, axis=1)"
      ],
      "execution_count": 0,
      "outputs": [
        {
          "output_type": "execute_result",
          "data": {
            "text/plain": [
              "array([7, 2, 7, 9, 2, 4, 7, 6, 2, 4])"
            ]
          },
          "metadata": {
            "tags": []
          },
          "execution_count": 28
        }
      ]
    },
    {
      "cell_type": "code",
      "metadata": {
        "id": "UpzghHnZtR_3",
        "colab_type": "code",
        "colab": {}
      },
      "source": [
        "import numpy as npo\n",
        "x_train = npo.zeros((60000,784))"
      ],
      "execution_count": 0,
      "outputs": []
    },
    {
      "cell_type": "code",
      "metadata": {
        "id": "Xk41P8Vluj9j",
        "colab_type": "code",
        "outputId": "7ab0f3cc-ee12-4c45-d93e-f487fa981c6d",
        "colab": {
          "base_uri": "https://localhost:8080/",
          "height": 34
        }
      },
      "source": [
        "x_train.shape"
      ],
      "execution_count": 0,
      "outputs": [
        {
          "output_type": "execute_result",
          "data": {
            "text/plain": [
              "(60000, 784)"
            ]
          },
          "metadata": {
            "tags": []
          },
          "execution_count": 39
        }
      ]
    },
    {
      "cell_type": "code",
      "metadata": {
        "id": "Jdb8feFzuvio",
        "colab_type": "code",
        "colab": {}
      },
      "source": [
        "t_vals = np.arange(0,10,0.25)"
      ],
      "execution_count": 0,
      "outputs": []
    },
    {
      "cell_type": "code",
      "metadata": {
        "id": "5bPW54vCuwTl",
        "colab_type": "code",
        "outputId": "a371088f-5157-4683-b118-03b9f2a4cdb2",
        "colab": {
          "base_uri": "https://localhost:8080/",
          "height": 85
        }
      },
      "source": [
        "t_vals"
      ],
      "execution_count": 0,
      "outputs": [
        {
          "output_type": "execute_result",
          "data": {
            "text/plain": [
              "array([0.  , 0.25, 0.5 , 0.75, 1.  , 1.25, 1.5 , 1.75, 2.  , 2.25, 2.5 ,\n",
              "       2.75, 3.  , 3.25, 3.5 , 3.75, 4.  , 4.25, 4.5 , 4.75, 5.  , 5.25,\n",
              "       5.5 , 5.75, 6.  , 6.25, 6.5 , 6.75, 7.  , 7.25, 7.5 , 7.75, 8.  ,\n",
              "       8.25, 8.5 , 8.75, 9.  , 9.25, 9.5 , 9.75])"
            ]
          },
          "metadata": {
            "tags": []
          },
          "execution_count": 41
        }
      ]
    },
    {
      "cell_type": "code",
      "metadata": {
        "id": "ZulFWe3VtSLn",
        "colab_type": "code",
        "outputId": "a377acdd-b0a9-4daa-c37d-34c59c8f08bd",
        "colab": {
          "base_uri": "https://localhost:8080/",
          "height": 341
        }
      },
      "source": [
        "K = kernel_fn(train_images_10,train_images_10,get='ntk')\n",
        "eigvals = np.sort(np.linalg.eigvalsh(K))[::-1]\n",
        "predictor = nt.predict.gradient_descent_mse(K, train_labels_10)\n",
        "predictor(test_images_10)"
      ],
      "execution_count": 0,
      "outputs": [
        {
          "output_type": "error",
          "ename": "ValueError",
          "evalue": "ignored",
          "traceback": [
            "\u001b[0;31m---------------------------------------------------------------------------\u001b[0m",
            "\u001b[0;31mValueError\u001b[0m                                Traceback (most recent call last)",
            "\u001b[0;32m<ipython-input-35-9163832e499d>\u001b[0m in \u001b[0;36m<module>\u001b[0;34m()\u001b[0m\n\u001b[1;32m      2\u001b[0m \u001b[0meigvals\u001b[0m \u001b[0;34m=\u001b[0m \u001b[0mnp\u001b[0m\u001b[0;34m.\u001b[0m\u001b[0msort\u001b[0m\u001b[0;34m(\u001b[0m\u001b[0mnp\u001b[0m\u001b[0;34m.\u001b[0m\u001b[0mlinalg\u001b[0m\u001b[0;34m.\u001b[0m\u001b[0meigvalsh\u001b[0m\u001b[0;34m(\u001b[0m\u001b[0mK\u001b[0m\u001b[0;34m)\u001b[0m\u001b[0;34m)\u001b[0m\u001b[0;34m[\u001b[0m\u001b[0;34m:\u001b[0m\u001b[0;34m:\u001b[0m\u001b[0;34m-\u001b[0m\u001b[0;36m1\u001b[0m\u001b[0;34m]\u001b[0m\u001b[0;34m\u001b[0m\u001b[0;34m\u001b[0m\u001b[0m\n\u001b[1;32m      3\u001b[0m \u001b[0mpredictor\u001b[0m \u001b[0;34m=\u001b[0m \u001b[0mnt\u001b[0m\u001b[0;34m.\u001b[0m\u001b[0mpredict\u001b[0m\u001b[0;34m.\u001b[0m\u001b[0mgradient_descent_mse\u001b[0m\u001b[0;34m(\u001b[0m\u001b[0mK\u001b[0m\u001b[0;34m,\u001b[0m \u001b[0mtrain_labels_10\u001b[0m\u001b[0;34m)\u001b[0m\u001b[0;34m\u001b[0m\u001b[0;34m\u001b[0m\u001b[0m\n\u001b[0;32m----> 4\u001b[0;31m \u001b[0mpredictor\u001b[0m\u001b[0;34m(\u001b[0m\u001b[0mtest_images_10\u001b[0m\u001b[0;34m)\u001b[0m\u001b[0;34m\u001b[0m\u001b[0;34m\u001b[0m\u001b[0m\n\u001b[0m",
            "\u001b[0;32m/usr/local/lib/python3.6/dist-packages/neural_tangents/predict.py\u001b[0m in \u001b[0;36mtrain_predict\u001b[0;34m(dt, fx)\u001b[0m\n\u001b[1;32m    131\u001b[0m     \u001b[0;32mdef\u001b[0m \u001b[0mtrain_predict\u001b[0m\u001b[0;34m(\u001b[0m\u001b[0mdt\u001b[0m\u001b[0;34m,\u001b[0m \u001b[0mfx\u001b[0m\u001b[0;34m=\u001b[0m\u001b[0;36m0.0\u001b[0m\u001b[0;34m)\u001b[0m\u001b[0;34m:\u001b[0m\u001b[0;34m\u001b[0m\u001b[0;34m\u001b[0m\u001b[0m\n\u001b[1;32m    132\u001b[0m       \u001b[0mgx_train\u001b[0m \u001b[0;34m=\u001b[0m \u001b[0mfl\u001b[0m\u001b[0;34m(\u001b[0m\u001b[0mfx\u001b[0m \u001b[0;34m-\u001b[0m \u001b[0my_train\u001b[0m\u001b[0;34m)\u001b[0m\u001b[0;34m\u001b[0m\u001b[0;34m\u001b[0m\u001b[0m\n\u001b[0;32m--> 133\u001b[0;31m       \u001b[0mdgx\u001b[0m \u001b[0;34m=\u001b[0m \u001b[0mexpm1_dot_vec\u001b[0m\u001b[0;34m(\u001b[0m\u001b[0mgx_train\u001b[0m\u001b[0;34m,\u001b[0m \u001b[0mdt\u001b[0m\u001b[0;34m)\u001b[0m\u001b[0;34m\u001b[0m\u001b[0;34m\u001b[0m\u001b[0m\n\u001b[0m\u001b[1;32m    134\u001b[0m       \u001b[0;32mreturn\u001b[0m \u001b[0mufl\u001b[0m\u001b[0;34m(\u001b[0m\u001b[0mdgx\u001b[0m\u001b[0;34m)\u001b[0m \u001b[0;34m+\u001b[0m \u001b[0mfx\u001b[0m\u001b[0;34m\u001b[0m\u001b[0;34m\u001b[0m\u001b[0m\n\u001b[1;32m    135\u001b[0m \u001b[0;34m\u001b[0m\u001b[0m\n",
            "\u001b[0;32m/usr/local/lib/python3.6/dist-packages/neural_tangents/predict.py\u001b[0m in \u001b[0;36m_\u001b[0;34m(vec, dt)\u001b[0m\n\u001b[1;32m    739\u001b[0m       return np.einsum(\n\u001b[1;32m    740\u001b[0m           \u001b[0;34m'ji,i,ki,k...->j...'\u001b[0m\u001b[0;34m,\u001b[0m\u001b[0;34m\u001b[0m\u001b[0;34m\u001b[0m\u001b[0m\n\u001b[0;32m--> 741\u001b[0;31m           evecs, fn(evals, dt), evecs, vec, optimize=True)\n\u001b[0m\u001b[1;32m    742\u001b[0m \u001b[0;34m\u001b[0m\u001b[0m\n\u001b[1;32m    743\u001b[0m     \u001b[0;32mreturn\u001b[0m \u001b[0m_\u001b[0m\u001b[0;34m\u001b[0m\u001b[0;34m\u001b[0m\u001b[0m\n",
            "\u001b[0;32m/usr/local/lib/python3.6/dist-packages/neural_tangents/predict.py\u001b[0m in \u001b[0;36mexpm1_fn\u001b[0;34m(evals, dt)\u001b[0m\n\u001b[1;32m    843\u001b[0m     \u001b[0;31m# we can threshold the eigenvalues to squash ones that are negative\u001b[0m\u001b[0;34m\u001b[0m\u001b[0;34m\u001b[0m\u001b[0;34m\u001b[0m\u001b[0m\n\u001b[1;32m    844\u001b[0m     \u001b[0;31m# for numerical reasons.\u001b[0m\u001b[0;34m\u001b[0m\u001b[0;34m\u001b[0m\u001b[0;34m\u001b[0m\u001b[0m\n\u001b[0;32m--> 845\u001b[0;31m     \u001b[0;32mreturn\u001b[0m \u001b[0mnp\u001b[0m\u001b[0;34m.\u001b[0m\u001b[0mexpm1\u001b[0m\u001b[0;34m(\u001b[0m\u001b[0;34m-\u001b[0m\u001b[0mnp\u001b[0m\u001b[0;34m.\u001b[0m\u001b[0mmaximum\u001b[0m\u001b[0;34m(\u001b[0m\u001b[0mevals\u001b[0m\u001b[0;34m,\u001b[0m \u001b[0;36m0.\u001b[0m\u001b[0;34m)\u001b[0m \u001b[0;34m*\u001b[0m \u001b[0mdt\u001b[0m \u001b[0;34m/\u001b[0m \u001b[0mnormalization\u001b[0m\u001b[0;34m)\u001b[0m\u001b[0;34m\u001b[0m\u001b[0;34m\u001b[0m\u001b[0m\n\u001b[0m\u001b[1;32m    846\u001b[0m \u001b[0;34m\u001b[0m\u001b[0m\n\u001b[1;32m    847\u001b[0m   \u001b[0;32mreturn\u001b[0m \u001b[0mexpm1_fn\u001b[0m\u001b[0;34m\u001b[0m\u001b[0;34m\u001b[0m\u001b[0m\n",
            "\u001b[0;32m/usr/local/lib/python3.6/dist-packages/jax/numpy/lax_numpy.py\u001b[0m in \u001b[0;36mdeferring_binary_op\u001b[0;34m(self, other)\u001b[0m\n\u001b[1;32m   3384\u001b[0m     \u001b[0;32mif\u001b[0m \u001b[0;32mnot\u001b[0m \u001b[0misinstance\u001b[0m\u001b[0;34m(\u001b[0m\u001b[0mother\u001b[0m\u001b[0;34m,\u001b[0m \u001b[0m_scalar_types\u001b[0m \u001b[0;34m+\u001b[0m \u001b[0m_arraylike_types\u001b[0m \u001b[0;34m+\u001b[0m \u001b[0;34m(\u001b[0m\u001b[0mcore\u001b[0m\u001b[0;34m.\u001b[0m\u001b[0mTracer\u001b[0m\u001b[0;34m,\u001b[0m\u001b[0;34m)\u001b[0m\u001b[0;34m)\u001b[0m\u001b[0;34m:\u001b[0m\u001b[0;34m\u001b[0m\u001b[0;34m\u001b[0m\u001b[0m\n\u001b[1;32m   3385\u001b[0m       \u001b[0;32mreturn\u001b[0m \u001b[0mNotImplemented\u001b[0m\u001b[0;34m\u001b[0m\u001b[0;34m\u001b[0m\u001b[0m\n\u001b[0;32m-> 3386\u001b[0;31m     \u001b[0;32mreturn\u001b[0m \u001b[0mbinary_op\u001b[0m\u001b[0;34m(\u001b[0m\u001b[0mself\u001b[0m\u001b[0;34m,\u001b[0m \u001b[0mother\u001b[0m\u001b[0;34m)\u001b[0m\u001b[0;34m\u001b[0m\u001b[0;34m\u001b[0m\u001b[0m\n\u001b[0m\u001b[1;32m   3387\u001b[0m   \u001b[0;32mreturn\u001b[0m \u001b[0mdeferring_binary_op\u001b[0m\u001b[0;34m\u001b[0m\u001b[0;34m\u001b[0m\u001b[0m\n\u001b[1;32m   3388\u001b[0m \u001b[0;34m\u001b[0m\u001b[0m\n",
            "\u001b[0;32m/usr/local/lib/python3.6/dist-packages/jax/numpy/lax_numpy.py\u001b[0m in \u001b[0;36mfn\u001b[0;34m(x1, x2)\u001b[0m\n\u001b[1;32m    400\u001b[0m \u001b[0;32mdef\u001b[0m \u001b[0m_maybe_bool_binop\u001b[0m\u001b[0;34m(\u001b[0m\u001b[0mnumpy_fn\u001b[0m\u001b[0;34m,\u001b[0m \u001b[0mlax_fn\u001b[0m\u001b[0;34m,\u001b[0m \u001b[0mbool_lax_fn\u001b[0m\u001b[0;34m)\u001b[0m\u001b[0;34m:\u001b[0m\u001b[0;34m\u001b[0m\u001b[0;34m\u001b[0m\u001b[0m\n\u001b[1;32m    401\u001b[0m   \u001b[0;32mdef\u001b[0m \u001b[0mfn\u001b[0m\u001b[0;34m(\u001b[0m\u001b[0mx1\u001b[0m\u001b[0;34m,\u001b[0m \u001b[0mx2\u001b[0m\u001b[0;34m)\u001b[0m\u001b[0;34m:\u001b[0m\u001b[0;34m\u001b[0m\u001b[0;34m\u001b[0m\u001b[0m\n\u001b[0;32m--> 402\u001b[0;31m     \u001b[0mx1\u001b[0m\u001b[0;34m,\u001b[0m \u001b[0mx2\u001b[0m \u001b[0;34m=\u001b[0m \u001b[0m_promote_args\u001b[0m\u001b[0;34m(\u001b[0m\u001b[0mnumpy_fn\u001b[0m\u001b[0;34m.\u001b[0m\u001b[0m__name__\u001b[0m\u001b[0;34m,\u001b[0m \u001b[0mx1\u001b[0m\u001b[0;34m,\u001b[0m \u001b[0mx2\u001b[0m\u001b[0;34m)\u001b[0m\u001b[0;34m\u001b[0m\u001b[0;34m\u001b[0m\u001b[0m\n\u001b[0m\u001b[1;32m    403\u001b[0m     \u001b[0;32mreturn\u001b[0m \u001b[0mlax_fn\u001b[0m\u001b[0;34m(\u001b[0m\u001b[0mx1\u001b[0m\u001b[0;34m,\u001b[0m \u001b[0mx2\u001b[0m\u001b[0;34m)\u001b[0m \u001b[0;32mif\u001b[0m \u001b[0mx1\u001b[0m\u001b[0;34m.\u001b[0m\u001b[0mdtype\u001b[0m \u001b[0;34m!=\u001b[0m \u001b[0mbool_\u001b[0m \u001b[0;32melse\u001b[0m \u001b[0mbool_lax_fn\u001b[0m\u001b[0;34m(\u001b[0m\u001b[0mx1\u001b[0m\u001b[0;34m,\u001b[0m \u001b[0mx2\u001b[0m\u001b[0;34m)\u001b[0m\u001b[0;34m\u001b[0m\u001b[0;34m\u001b[0m\u001b[0m\n\u001b[1;32m    404\u001b[0m   \u001b[0;32mreturn\u001b[0m \u001b[0m_wraps\u001b[0m\u001b[0;34m(\u001b[0m\u001b[0mnumpy_fn\u001b[0m\u001b[0;34m)\u001b[0m\u001b[0;34m(\u001b[0m\u001b[0mfn\u001b[0m\u001b[0;34m)\u001b[0m\u001b[0;34m\u001b[0m\u001b[0;34m\u001b[0m\u001b[0m\n",
            "\u001b[0;32m/usr/local/lib/python3.6/dist-packages/jax/numpy/lax_numpy.py\u001b[0m in \u001b[0;36m_promote_args\u001b[0;34m(fun_name, *args)\u001b[0m\n\u001b[1;32m    262\u001b[0m   \u001b[0;34m\"\"\"Convenience function to apply Numpy argument shape and dtype promotion.\"\"\"\u001b[0m\u001b[0;34m\u001b[0m\u001b[0;34m\u001b[0m\u001b[0m\n\u001b[1;32m    263\u001b[0m   \u001b[0m_check_arraylike\u001b[0m\u001b[0;34m(\u001b[0m\u001b[0mfun_name\u001b[0m\u001b[0;34m,\u001b[0m \u001b[0;34m*\u001b[0m\u001b[0margs\u001b[0m\u001b[0;34m)\u001b[0m\u001b[0;34m\u001b[0m\u001b[0;34m\u001b[0m\u001b[0m\n\u001b[0;32m--> 264\u001b[0;31m   \u001b[0;32mreturn\u001b[0m \u001b[0m_promote_shapes\u001b[0m\u001b[0;34m(\u001b[0m\u001b[0mfun_name\u001b[0m\u001b[0;34m,\u001b[0m \u001b[0;34m*\u001b[0m\u001b[0m_promote_dtypes\u001b[0m\u001b[0;34m(\u001b[0m\u001b[0;34m*\u001b[0m\u001b[0margs\u001b[0m\u001b[0;34m)\u001b[0m\u001b[0;34m)\u001b[0m\u001b[0;34m\u001b[0m\u001b[0;34m\u001b[0m\u001b[0m\n\u001b[0m\u001b[1;32m    265\u001b[0m \u001b[0;34m\u001b[0m\u001b[0m\n\u001b[1;32m    266\u001b[0m \u001b[0;32mdef\u001b[0m \u001b[0m_promote_args_inexact\u001b[0m\u001b[0;34m(\u001b[0m\u001b[0mfun_name\u001b[0m\u001b[0;34m,\u001b[0m \u001b[0;34m*\u001b[0m\u001b[0margs\u001b[0m\u001b[0;34m)\u001b[0m\u001b[0;34m:\u001b[0m\u001b[0;34m\u001b[0m\u001b[0;34m\u001b[0m\u001b[0m\n",
            "\u001b[0;32m/usr/local/lib/python3.6/dist-packages/jax/numpy/lax_numpy.py\u001b[0m in \u001b[0;36m_promote_shapes\u001b[0;34m(fun_name, *args)\u001b[0m\n\u001b[1;32m    199\u001b[0m       \u001b[0;32mif\u001b[0m \u001b[0mFLAGS\u001b[0m\u001b[0;34m.\u001b[0m\u001b[0mjax_numpy_rank_promotion\u001b[0m \u001b[0;34m!=\u001b[0m \u001b[0;34m\"allow\"\u001b[0m\u001b[0;34m:\u001b[0m\u001b[0;34m\u001b[0m\u001b[0;34m\u001b[0m\u001b[0m\n\u001b[1;32m    200\u001b[0m         \u001b[0m_rank_promotion_warning_or_error\u001b[0m\u001b[0;34m(\u001b[0m\u001b[0mfun_name\u001b[0m\u001b[0;34m,\u001b[0m \u001b[0mshapes\u001b[0m\u001b[0;34m)\u001b[0m\u001b[0;34m\u001b[0m\u001b[0;34m\u001b[0m\u001b[0m\n\u001b[0;32m--> 201\u001b[0;31m       \u001b[0mresult_rank\u001b[0m \u001b[0;34m=\u001b[0m \u001b[0mlen\u001b[0m\u001b[0;34m(\u001b[0m\u001b[0mlax\u001b[0m\u001b[0;34m.\u001b[0m\u001b[0mbroadcast_shapes\u001b[0m\u001b[0;34m(\u001b[0m\u001b[0;34m*\u001b[0m\u001b[0mshapes\u001b[0m\u001b[0;34m)\u001b[0m\u001b[0;34m)\u001b[0m\u001b[0;34m\u001b[0m\u001b[0;34m\u001b[0m\u001b[0m\n\u001b[0m\u001b[1;32m    202\u001b[0m       return [lax.reshape(arg, (1,) * (result_rank - len(shp)) + shp)\n\u001b[1;32m    203\u001b[0m               \u001b[0;32mif\u001b[0m \u001b[0mshp\u001b[0m \u001b[0;32mand\u001b[0m \u001b[0mlen\u001b[0m\u001b[0;34m(\u001b[0m\u001b[0mshp\u001b[0m\u001b[0;34m)\u001b[0m \u001b[0;34m!=\u001b[0m \u001b[0mresult_rank\u001b[0m \u001b[0;32melse\u001b[0m \u001b[0marg\u001b[0m\u001b[0;34m\u001b[0m\u001b[0;34m\u001b[0m\u001b[0m\n",
            "\u001b[0;32m/usr/local/lib/python3.6/dist-packages/jax/lax/lax.py\u001b[0m in \u001b[0;36mbroadcast_shapes\u001b[0;34m(*shapes)\u001b[0m\n\u001b[1;32m     70\u001b[0m   \u001b[0;32mif\u001b[0m \u001b[0;32mnot\u001b[0m \u001b[0monp\u001b[0m\u001b[0;34m.\u001b[0m\u001b[0mall\u001b[0m\u001b[0;34m(\u001b[0m\u001b[0;34m(\u001b[0m\u001b[0mshapes\u001b[0m \u001b[0;34m==\u001b[0m \u001b[0mresult_shape\u001b[0m\u001b[0;34m)\u001b[0m \u001b[0;34m|\u001b[0m \u001b[0;34m(\u001b[0m\u001b[0mshapes\u001b[0m \u001b[0;34m==\u001b[0m \u001b[0;36m1\u001b[0m\u001b[0;34m)\u001b[0m\u001b[0;34m)\u001b[0m\u001b[0;34m:\u001b[0m\u001b[0;34m\u001b[0m\u001b[0;34m\u001b[0m\u001b[0m\n\u001b[1;32m     71\u001b[0m     raise ValueError(\"Incompatible shapes for broadcasting: {}\"\n\u001b[0;32m---> 72\u001b[0;31m                      .format(tuple(map(tuple, shapes))))\n\u001b[0m\u001b[1;32m     73\u001b[0m   \u001b[0;32mreturn\u001b[0m \u001b[0mtuple\u001b[0m\u001b[0;34m(\u001b[0m\u001b[0mresult_shape\u001b[0m\u001b[0;34m)\u001b[0m\u001b[0;34m\u001b[0m\u001b[0;34m\u001b[0m\u001b[0m\n\u001b[1;32m     74\u001b[0m \u001b[0;34m\u001b[0m\u001b[0m\n",
            "\u001b[0;31mValueError\u001b[0m: Incompatible shapes for broadcasting: ((1, 10), (10, 1024))"
          ]
        }
      ]
    },
    {
      "cell_type": "code",
      "metadata": {
        "id": "jQE1er5QZhYH",
        "colab_type": "code",
        "outputId": "ba6196c0-2676-4cdf-d470-a0c0a0b92597",
        "colab": {
          "base_uri": "https://localhost:8080/",
          "height": 1000
        }
      },
      "source": [
        "# BLOCK OF CODE TO DO GRID SEARCH EXPERIMENTS\n",
        "\n",
        "def train_network(params):\n",
        "  opt_state = opt_init(params)\n",
        "  train_losses = []\n",
        "  for i, batch in enumerate(train_data_shuff):\n",
        "    data_i = process_data(batch)\n",
        "    image = data_i['image'] / 255.\n",
        "    label = data_i['label']\n",
        "    opt_state = opt_update(i, grad_loss_cross(opt_state, image, label), opt_state)\n",
        "    train_loss_i = nn_loss_cross(get_params(opt_state), image, label)\n",
        "    train_losses.append(train_loss_i)\n",
        "    sys.stdout.write('\\rtrain loss: %0.5f' % train_loss_i)\n",
        "    sys.stdout.flush()\n",
        "  return opt_state, train_loss_i\n",
        "\n",
        "widths = [128, 256, 512]\n",
        "layers = [2,5,10,12,15,20,50]\n",
        "\n",
        "model_combos = []\n",
        "train_errors = []\n",
        "test_errors = []\n",
        "train_times = []\n",
        "\n",
        "for n in layers:\n",
        "  for width in widths:\n",
        "    print(f\"Depth {n}\\tWidth {width}\")\n",
        "    init_fn, apply_fn, kernel_fn = FullyConnected(n, width)\n",
        "    key = random.PRNGKey(2020)\n",
        "    _, params = init_fn(key, (-1, 1024))\n",
        "    start = timeit.default_timer()\n",
        "    train_data_shuff = tfds.as_numpy(\n",
        "      train_data.shuffle(1024).batch(batch_size).repeat(training_epochs))\n",
        "    opt_state, train_error = train_network(params)\n",
        "    end = timeit.default_timer()\n",
        "    train_time = end - start\n",
        "    print(\"\\nTraining Time: %0.5f\" %train_time)\n",
        "    test_preds = predict(get_params(opt_state), test_images)\n",
        "    preds = np.argmax(test_preds, axis = 1).astype('int')\n",
        "    true = np.argmax(test_labels, axis = 1).astype('int')\n",
        "    gen_err = 1 - (preds==true).mean()\n",
        "    print(\"Test Classification Error: %0.5f\" %gen_err)\n",
        "    model_combos.append((n, width))\n",
        "    train_errors.append(train_error)\n",
        "    test_errors.append(gen_err)\n",
        "    train_times.append(train_time)"
      ],
      "execution_count": 0,
      "outputs": [
        {
          "output_type": "stream",
          "text": [
            "Depth 2\tWidth 128\n",
            "train loss: 0.17456\n",
            "Training Time: 87.43318\n",
            "Test Classification Error: 0.62294\n",
            "Depth 2\tWidth 256\n",
            "train loss: 0.16607\n",
            "Training Time: 85.86001\n",
            "Test Classification Error: 0.60326\n",
            "Depth 2\tWidth 512\n",
            "train loss: 0.17207\n",
            "Training Time: 87.57699\n",
            "Test Classification Error: 0.59456\n",
            "Depth 5\tWidth 128\n",
            "train loss: 0.15937\n",
            "Training Time: 134.55819\n",
            "Test Classification Error: 0.62534\n",
            "Depth 5\tWidth 256\n",
            "train loss: 0.16423\n",
            "Training Time: 134.81600\n",
            "Test Classification Error: 0.59700\n",
            "Depth 5\tWidth 512\n",
            "train loss: 0.15730\n",
            "Training Time: 137.36587\n",
            "Test Classification Error: 0.58382\n",
            "Depth 10\tWidth 128\n",
            "train loss: 0.17891\n",
            "Training Time: 221.97269\n",
            "Test Classification Error: 0.65010\n",
            "Depth 10\tWidth 256\n",
            "train loss: 0.16614\n",
            "Training Time: 219.05926\n",
            "Test Classification Error: 0.63524\n",
            "Depth 10\tWidth 512\n",
            "train loss: 0.15321\n",
            "Training Time: 221.06299\n",
            "Test Classification Error: 0.62328\n",
            "Depth 12\tWidth 128\n",
            "train loss: 0.18038\n",
            "Training Time: 251.15806\n",
            "Test Classification Error: 0.67288\n",
            "Depth 12\tWidth 256\n",
            "train loss: 0.18027\n",
            "Training Time: 251.68263\n",
            "Test Classification Error: 0.68966\n",
            "Depth 12\tWidth 512\n",
            "train loss: 0.17407\n",
            "Training Time: 251.16102\n",
            "Test Classification Error: 0.67860\n",
            "Depth 15\tWidth 128\n",
            "train loss: 0.19039\n",
            "Training Time: 299.93031\n",
            "Test Classification Error: 0.75034\n",
            "Depth 15\tWidth 256\n",
            "train loss: 0.21103\n",
            "Training Time: 301.59243\n",
            "Test Classification Error: 0.82492\n",
            "Depth 15\tWidth 512\n",
            "train loss: 0.19848\n",
            "Training Time: 304.99433\n",
            "Test Classification Error: 0.82678\n",
            "Depth 20\tWidth 128\n",
            "train loss: 0.20514\n",
            "Training Time: 384.58508\n",
            "Test Classification Error: 0.82608\n",
            "Depth 20\tWidth 256\n",
            "train loss: 0.19464\n",
            "Training Time: 382.32152\n",
            "Test Classification Error: 0.82510\n",
            "Depth 20\tWidth 512\n",
            "train loss: 0.21186\n",
            "Training Time: 387.35704\n",
            "Test Classification Error: 0.82534\n",
            "Depth 50\tWidth 128\n",
            "train loss: 0.23026\n",
            "Training Time: 890.61262\n",
            "Test Classification Error: 0.90000\n",
            "Depth 50\tWidth 256\n",
            "train loss: 0.23026\n",
            "Training Time: 893.76735\n",
            "Test Classification Error: 0.90000\n",
            "Depth 50\tWidth 512\n",
            "train loss: 0.23026\n",
            "Training Time: 895.12595\n",
            "Test Classification Error: 0.90000\n"
          ],
          "name": "stdout"
        }
      ]
    },
    {
      "cell_type": "code",
      "metadata": {
        "id": "oxkeuEHZMNC_",
        "colab_type": "code",
        "colab": {}
      },
      "source": [
        "model_combos = np.hstack(model_combos)\n",
        "train_errors = np.hstack(train_errors)\n",
        "test_errors = np.hstack(test_errors)\n",
        "train_times = np.hstack(train_times)\n",
        "\n",
        "# np.save(\"drive/My Drive/cifar10_model_combos.npy\", model_combos)\n",
        "# np.save(\"drive/My Drive/cifar10_train_errors.npy\", train_errors)\n",
        "# np.save(\"drive/My Drive/cifar10_test_errors.npy\", test_errors)\n",
        "# np.save(\"drive/My Drive/cifar10_train_times.npy\", train_times)"
      ],
      "execution_count": 0,
      "outputs": []
    },
    {
      "cell_type": "code",
      "metadata": {
        "id": "oJuQzcTee7Wc",
        "colab_type": "code",
        "outputId": "5cef6ea1-b63c-4110-f10c-dd4290c75da7",
        "colab": {
          "base_uri": "https://localhost:8080/",
          "height": 309
        }
      },
      "source": [
        "test_errors = np.load(\"drive/My Drive/cifar10_test_errors.npy\")\n",
        "shaped_err = test_errors.reshape(-1,3)\n",
        "plt.rcParams.update({'font.size': 15})\n",
        "plt.scatter(layers, shaped_err[:,0], label=\"Width: 128\")\n",
        "plt.scatter(layers, shaped_err[:,1], label=\"Width: 256\")\n",
        "plt.scatter(layers, shaped_err[:,2], label=\"Width: 512\")\n",
        "plt.xlabel(\"Layers\")\n",
        "plt.ylabel(\"NN test risk\")\n",
        "plt.legend()\n",
        "plt.title(\"CIFAR-10 5 Epoch Generalization\")\n",
        "plt.savefig(\"drive/My Drive/cifar10_plot_class.pdf\")"
      ],
      "execution_count": 0,
      "outputs": [
        {
          "output_type": "display_data",
          "data": {
            "image/png": "[encoded data removed]",
            "text/plain": [
              "<Figure size 432x288 with 1 Axes>"
            ]
          },
          "metadata": {
            "tags": [],
            "needs_background": "light"
          }
        }
      ]
    },
    {
      "cell_type": "code",
      "metadata": {
        "id": "KDLD-2dbPbTD",
        "colab_type": "code",
        "outputId": "747eed7a-55ba-4929-bc69-cf2b8566fde0",
        "colab": {
          "base_uri": "https://localhost:8080/",
          "height": 307
        }
      },
      "source": [
        "train_times = np.load(\"drive/My Drive/cifar100_train_times.npy\")\n",
        "shaped_times = train_times.reshape(-1,3)\n",
        "plt.rcParams.update({'font.size': 14})\n",
        "plt.scatter(layers, shaped_times[:,0], label=\"Width: 128\")\n",
        "plt.scatter(layers, shaped_times[:,1], label=\"Width: 256\")\n",
        "plt.scatter(layers, shaped_times[:,2], label=\"Width: 512\")\n",
        "plt.xlabel(\"Layers\")\n",
        "plt.ylabel(\"Train Time\")\n",
        "plt.legend()\n",
        "plt.title(\"CIFAR-100 5 Epoch Training Time\")\n",
        "plt.savefig(\"drive/My Drive/cifar100_trainingtime.pdf\")"
      ],
      "execution_count": 0,
      "outputs": [
        {
          "output_type": "display_data",
          "data": {
            "image/png": "[encoded data removed]",
            "text/plain": [
              "<Figure size 432x288 with 1 Axes>"
            ]
          },
          "metadata": {
            "tags": [],
            "needs_background": "light"
          }
        }
      ]
    },
    {
      "cell_type": "code",
      "metadata": {
        "id": "pZQ56usVnwnX",
        "colab_type": "code",
        "colab": {}
      },
      "source": [
        "# Get kernel of a single type\n",
        "nngp = kernel_fn(x1, x2, 'nngp') # (10, 20) np.ndarray\n",
        "ntk = kernel_fn(x1, x2, 'ntk') # (10, 20) np.ndarray\n",
        "\n",
        "# Get kernels as a namedtuple\n",
        "both = kernel_fn(x1, x2, ('nngp', 'ntk'))\n",
        "both.nngp == nngp  # True\n",
        "both.ntk == ntk  # True\n",
        "\n",
        "# Unpack the kernels namedtuple\n",
        "nngp, ntk = kernel_fn(x1, x2, ('nngp', 'ntk'))"
      ],
      "execution_count": 0,
      "outputs": []
    },
    {
      "cell_type": "code",
      "metadata": {
        "id": "4ptk8vx6oNzb",
        "colab_type": "code",
        "colab": {}
      },
      "source": [
        ""
      ],
      "execution_count": 0,
      "outputs": []
    },
    {
      "cell_type": "code",
      "metadata": {
        "id": "ViVC4feFoOIs",
        "colab_type": "code",
        "colab": {}
      },
      "source": [
        ""
      ],
      "execution_count": 0,
      "outputs": []
    },
    {
      "cell_type": "code",
      "metadata": {
        "id": "C-DIqfUfoOF5",
        "colab_type": "code",
        "colab": {}
      },
      "source": [
        ""
      ],
      "execution_count": 0,
      "outputs": []
    },
    {
      "cell_type": "code",
      "metadata": {
        "id": "eh2m72-7oOCo",
        "colab_type": "code",
        "colab": {}
      },
      "source": [
        ""
      ],
      "execution_count": 0,
      "outputs": []
    },
    {
      "cell_type": "code",
      "metadata": {
        "id": "8vcbfOOroN-Z",
        "colab_type": "code",
        "colab": {}
      },
      "source": [
        ""
      ],
      "execution_count": 0,
      "outputs": []
    },
    {
      "cell_type": "code",
      "metadata": {
        "id": "KJqZWpcomAeb",
        "colab_type": "code",
        "colab": {}
      },
      "source": [
        "def kernel_2_layer(z):\n",
        "  return z*(1 - 1/math.pi*jnp.arccos(z)) + 1/math.pi * jnp.sqrt(1-z**2)\n",
        "\n",
        "def f_relu(phi, L):\n",
        "    if L==1:\n",
        "        return np.arccos(1/math.pi * np.sin(phi) + (1 - 1/math.pi *  np.arccos(np.cos(phi))   )   * np.cos(phi))\n",
        "    elif L==0:\n",
        "        return np.arccos(np.cos(phi))\n",
        "    else:\n",
        "        return f(phi,L-1)\n",
        "    \n",
        "def kernel(z, layers):\n",
        "  if layers == 1:\n",
        "    return kernel_2_layer(z)\n",
        "  \n",
        "  else:\n",
        "    a = np.arccos(z)\n",
        "    for i in range(L-1):\n",
        "      a = f(a,1)\n",
        "    return np.cos(f(a,1)) + kernel(z,L-1) * (1-a/math.pi) \n"
      ],
      "execution_count": 0,
      "outputs": []
    },
    {
      "cell_type": "code",
      "metadata": {
        "id": "arkvnhwQW_G8",
        "colab_type": "code",
        "colab": {}
      },
      "source": [
        "M = 1000\n",
        "train_blocks = tfds.as_numpy(train_data.shuffle(1024).batch(M))\n",
        "test_blocks = tfds.as_numpy(train_data.shuffle(1024).batch(M))\n",
        "\n",
        "\n",
        "all_data = np.zeros((50000, 1024))\n",
        "all_labels = np.zeros((50000, 10))\n",
        "all_test_data = np.zeros((50000, 1024))\n",
        "all_test_labels = np.zeros((50000, 10))\n",
        "\n",
        "for i, batch in enumerate(train_blocks):\n",
        "  data = process_data(batch)\n",
        "  image = data['image']\n",
        "  label = data['label']\n",
        "  all_data[i*M:(i+1)*M,:] = image / np.outer(np.linalg.norm(image, axis = 1), (1+1e-6)*np.ones(image.shape[1]))\n",
        "  all_labels[i*M:(i+1)*M,:] = label\n",
        "\n",
        "for i, batch in enumerate(test_blocks):\n",
        "  data = process_data(batch)\n",
        "  image = data['image']\n",
        "  label = data['label']\n",
        "  all_test_data[i*M:(i+1)*M,:] = image / np.outer(np.linalg.norm(image, axis = 1), (1+1e-6)*np.ones(image.shape[1]))\n",
        "  all_test_labels[i*M:(i+1)*M,:] = label\n",
        "\n"
      ],
      "execution_count": 0,
      "outputs": []
    },
    {
      "cell_type": "code",
      "metadata": {
        "id": "VAMfWJzEGKPh",
        "colab_type": "code",
        "outputId": "1c7dc9e8-099c-4353-d060-85a80067b695",
        "colab": {
          "base_uri": "https://localhost:8080/",
          "height": 653
        }
      },
      "source": [
        "# do an experiment on a block of size 5000\n",
        "block_size = 3000\n",
        "K = kernel_2_layer(np.dot(all_data[0:block_size,:], all_data[0:block_size,:].T ))\n",
        "#K = kernel_fn(all_data[0:block_size, :], get='ntk')\n",
        "k = 250\n",
        "T = 500\n",
        "\n",
        "y_block = all_labels[0:block_size,:]\n",
        "\n",
        "w,v = sp.linalg.eigh(K, eigvals=(0, block_size-1))\n",
        "w = w[::-1]\n",
        "v = v[:,::-1]\n",
        "plt.loglog(w)\n",
        "plt.title('spectrum of block matrix')\n",
        "plt.show()\n",
        "\n",
        "\n",
        "#P = np.eye(block_size) + v @ (-np.eye(k) + w[k-1] * np.diag(w**(-1)) ) @ v.T\n",
        "\n",
        "P = np.eye(block_size)\n",
        "for i in range(k):\n",
        "  P += (w[k-1]/w[i] - 1) * np.outer(v[:,i],v[:,i])\n",
        "\n",
        "wp,vp = sp.linalg.eigh(P)\n",
        "plt.loglog(wp[::-1])\n",
        "plt.title('P spectrum')\n",
        "plt.show()\n",
        "y_P = P @ y_block\n",
        "K_P = P @ K\n",
        "\n",
        "wp,vp= sp.linalg.eigh(K_P, eigvals=(0, block_size-1))\n",
        "\n",
        "plt.loglog(wp[::-1], label = 'eigenpro')\n",
        "plt.loglog(w, label = 'original spectrum')\n",
        "plt.title('comparison of spectra')\n",
        "plt.xlabel(r'$k$')\n",
        "plt.ylabel(r'$\\lambda_k$')\n",
        "plt.savefig('/content/gdrive/My Drive/eigpro_spectrum.pdf')\n",
        "plt.show()\n",
        "\n",
        "alpha = np.zeros((block_size, 10))\n",
        "alpha_slow = np.zeros((block_size, 10))\n",
        "eta = 0.99/(w[k-1])\n",
        "err = np.zeros(T)\n",
        "err_slow = np.zeros(T)\n",
        "alpha_star = np.linalg.inv(K) @ y_block\n",
        "true_err = np.zeros(T)\n",
        "true_err_slow = np.zeros(T)\n",
        "eta_slow = 1/w[0]\n",
        "for i in range(T):\n",
        "  true_err[i] = np.mean( (K @ alpha - y_block)**2 )\n",
        "  true_err_slow[i] = np.mean( (K @ alpha_slow - y_block)**2 )\n",
        "\n",
        "  alpha += eta*(y_P - K_P@alpha)\n",
        "  alpha_slow += eta_slow*(y_block - K @ alpha)\n",
        "  err[i] = np.mean((alpha- alpha_star)**2)\n",
        "  err_slow[i] = np.mean( (alpha_slow-alpha_star)**2 )\n",
        "  \n",
        "  sys.stdout.write( \"\\r size of alpha: %.7f | preconditioned error: %.7f | naive error: %.7f\" % (np.mean((alpha**2)) , true_err[i], true_err_slow[i]) )\n",
        "\n",
        "plt.semilogy(np.sqrt(true_err), label = 'preconditioned')\n",
        "plt.semilogy(np.sqrt(true_err_slow), label = 'naive GD')\n",
        "plt.legend()\n",
        "plt.xlabel('Iterations')\n",
        "plt.ylabel(r'$||K \\alpha - y ||$')\n",
        "plt.title('Preconditioned Training Dynamics')\n",
        "plt.savefig('/content/gdrive/My Drive/eigpro_error.pdf')\n",
        "plt.show()\n",
        "\n",
        "# some possible plots: 1. number of required steps vs k ; 2. ops(k) / n^3 vs k "
      ],
      "execution_count": 0,
      "outputs": [
        {
          "output_type": "display_data",
          "data": {
            "image/png": "[encoded data removed]",
            "text/plain": [
              "<Figure size 432x288 with 1 Axes>"
            ]
          },
          "metadata": {
            "tags": [],
            "needs_background": "light"
          }
        },
        {
          "output_type": "error",
          "ename": "KeyboardInterrupt",
          "evalue": "ignored",
          "traceback": [
            "\u001b[0;31m---------------------------------------------------------------------------\u001b[0m",
            "\u001b[0;31mKeyboardInterrupt\u001b[0m                         Traceback (most recent call last)",
            "\u001b[0;32m<ipython-input-9-c9944176dc7d>\u001b[0m in \u001b[0;36m<module>\u001b[0;34m()\u001b[0m\n\u001b[1;32m     19\u001b[0m \u001b[0mP\u001b[0m \u001b[0;34m=\u001b[0m \u001b[0mnp\u001b[0m\u001b[0;34m.\u001b[0m\u001b[0meye\u001b[0m\u001b[0;34m(\u001b[0m\u001b[0mblock_size\u001b[0m\u001b[0;34m)\u001b[0m\u001b[0;34m\u001b[0m\u001b[0;34m\u001b[0m\u001b[0m\n\u001b[1;32m     20\u001b[0m \u001b[0;32mfor\u001b[0m \u001b[0mi\u001b[0m \u001b[0;32min\u001b[0m \u001b[0mrange\u001b[0m\u001b[0;34m(\u001b[0m\u001b[0mk\u001b[0m\u001b[0;34m)\u001b[0m\u001b[0;34m:\u001b[0m\u001b[0;34m\u001b[0m\u001b[0;34m\u001b[0m\u001b[0m\n\u001b[0;32m---> 21\u001b[0;31m   \u001b[0mP\u001b[0m \u001b[0;34m+=\u001b[0m \u001b[0;34m(\u001b[0m\u001b[0mw\u001b[0m\u001b[0;34m[\u001b[0m\u001b[0mk\u001b[0m\u001b[0;34m-\u001b[0m\u001b[0;36m1\u001b[0m\u001b[0;34m]\u001b[0m\u001b[0;34m/\u001b[0m\u001b[0mw\u001b[0m\u001b[0;34m[\u001b[0m\u001b[0mi\u001b[0m\u001b[0;34m]\u001b[0m \u001b[0;34m-\u001b[0m \u001b[0;36m1\u001b[0m\u001b[0;34m)\u001b[0m \u001b[0;34m*\u001b[0m \u001b[0mnp\u001b[0m\u001b[0;34m.\u001b[0m\u001b[0mouter\u001b[0m\u001b[0;34m(\u001b[0m\u001b[0mv\u001b[0m\u001b[0;34m[\u001b[0m\u001b[0;34m:\u001b[0m\u001b[0;34m,\u001b[0m\u001b[0mi\u001b[0m\u001b[0;34m]\u001b[0m\u001b[0;34m,\u001b[0m\u001b[0mv\u001b[0m\u001b[0;34m[\u001b[0m\u001b[0;34m:\u001b[0m\u001b[0;34m,\u001b[0m\u001b[0mi\u001b[0m\u001b[0;34m]\u001b[0m\u001b[0;34m)\u001b[0m\u001b[0;34m\u001b[0m\u001b[0;34m\u001b[0m\u001b[0m\n\u001b[0m\u001b[1;32m     22\u001b[0m \u001b[0;34m\u001b[0m\u001b[0m\n\u001b[1;32m     23\u001b[0m \u001b[0mwp\u001b[0m\u001b[0;34m,\u001b[0m\u001b[0mvp\u001b[0m \u001b[0;34m=\u001b[0m \u001b[0msp\u001b[0m\u001b[0;34m.\u001b[0m\u001b[0mlinalg\u001b[0m\u001b[0;34m.\u001b[0m\u001b[0meigh\u001b[0m\u001b[0;34m(\u001b[0m\u001b[0mP\u001b[0m\u001b[0;34m)\u001b[0m\u001b[0;34m\u001b[0m\u001b[0;34m\u001b[0m\u001b[0m\n",
            "\u001b[0;32m<__array_function__ internals>\u001b[0m in \u001b[0;36mouter\u001b[0;34m(*args, **kwargs)\u001b[0m\n",
            "\u001b[0;32m/usr/local/lib/python3.6/dist-packages/numpy/core/numeric.py\u001b[0m in \u001b[0;36mouter\u001b[0;34m(a, b, out)\u001b[0m\n\u001b[1;32m    904\u001b[0m     \u001b[0ma\u001b[0m \u001b[0;34m=\u001b[0m \u001b[0masarray\u001b[0m\u001b[0;34m(\u001b[0m\u001b[0ma\u001b[0m\u001b[0;34m)\u001b[0m\u001b[0;34m\u001b[0m\u001b[0;34m\u001b[0m\u001b[0m\n\u001b[1;32m    905\u001b[0m     \u001b[0mb\u001b[0m \u001b[0;34m=\u001b[0m \u001b[0masarray\u001b[0m\u001b[0;34m(\u001b[0m\u001b[0mb\u001b[0m\u001b[0;34m)\u001b[0m\u001b[0;34m\u001b[0m\u001b[0;34m\u001b[0m\u001b[0m\n\u001b[0;32m--> 906\u001b[0;31m     \u001b[0;32mreturn\u001b[0m \u001b[0mmultiply\u001b[0m\u001b[0;34m(\u001b[0m\u001b[0ma\u001b[0m\u001b[0;34m.\u001b[0m\u001b[0mravel\u001b[0m\u001b[0;34m(\u001b[0m\u001b[0;34m)\u001b[0m\u001b[0;34m[\u001b[0m\u001b[0;34m:\u001b[0m\u001b[0;34m,\u001b[0m \u001b[0mnewaxis\u001b[0m\u001b[0;34m]\u001b[0m\u001b[0;34m,\u001b[0m \u001b[0mb\u001b[0m\u001b[0;34m.\u001b[0m\u001b[0mravel\u001b[0m\u001b[0;34m(\u001b[0m\u001b[0;34m)\u001b[0m\u001b[0;34m[\u001b[0m\u001b[0mnewaxis\u001b[0m\u001b[0;34m,\u001b[0m \u001b[0;34m:\u001b[0m\u001b[0;34m]\u001b[0m\u001b[0;34m,\u001b[0m \u001b[0mout\u001b[0m\u001b[0;34m)\u001b[0m\u001b[0;34m\u001b[0m\u001b[0;34m\u001b[0m\u001b[0m\n\u001b[0m\u001b[1;32m    907\u001b[0m \u001b[0;34m\u001b[0m\u001b[0m\n\u001b[1;32m    908\u001b[0m \u001b[0;34m\u001b[0m\u001b[0m\n",
            "\u001b[0;31mKeyboardInterrupt\u001b[0m: "
          ]
        }
      ]
    },
    {
      "cell_type": "code",
      "metadata": {
        "id": "u_zYY9-TEuTE",
        "colab_type": "code",
        "colab": {}
      },
      "source": [
        "# write code to iterate through blocks\n",
        "\n",
        "\n",
        "def train_blocks(all_data, all_labels, block_size, k):\n",
        "  \n",
        "  all_data =  all_data / np.outer(jnp.linalg.norm(all_data,axis = 1), (1+1e-3)*jnp.ones(all_data.shape[1])) \n",
        "  # get preconditioner from first block\n",
        "  X = all_data[0:block_size,:]\n",
        "  start = timeit.default_timer()\n",
        "  K_1 = kernel_2_layer(X @ X.T)\n",
        "  end = timeit.default_timer()\n",
        "  print(\"time without jit %.5f\" %( end - start))\n",
        "  w,v = sp.linalg.eigh(K_1, eigvals = (0, block_size -1))\n",
        "  w = w[::-1]\n",
        "  v = v[:,::-1]\n",
        "\n",
        "  #w = all_data.shape[0] / block_size * w\n",
        "\n",
        "  # compute preconditioner and learning rate\n",
        "  P = np.eye(block_size)\n",
        "  for i in range(k):\n",
        "    P += (w[k-1]/w[i] - 1) * np.outer(v[:,i],v[:,i])\n",
        "  \n",
        "\n",
        "  wp, vp = sp.linalg.eigh(P @ K_1, eigvals=(0,block_size-1))\n",
        "  K_sub = K_1[0:k,0:k]\n",
        "  wsub, vsub = sp.linalg.eigh(K_sub)\n",
        "  plt.loglog(w)\n",
        "  plt.loglog(wp[::-1])\n",
        "  plt.loglog(block_size/k * wsub[::-1])\n",
        "  plt.show()\n",
        "  \n",
        "\n",
        "  eta = 0.9/np.amax(wp)\n",
        "  eta_slow = 1/np.amax(w)\n",
        "  T = 200\n",
        "  alpha = np.zeros((all_data.shape[0], 10))\n",
        "  err = np.zeros(T)\n",
        "  err_after = np.zeros(T)\n",
        "  err_slow = np.zeros(T)\n",
        "\n",
        "  P = jnp.array(P)\n",
        "  \n",
        "\n",
        "\n",
        "  get_kernel = jit(lambda X, Xp: kernel_2_layer(jnp.dot(X, Xp.T)))\n",
        "  get_res = jit(lambda K, alpha, y: y - jnp.dot(K, alpha))\n",
        "  get_update = jit(lambda eta, P, res: eta* jnp.dot(P, res))\n",
        "  err_fn = jit(lambda K, alpha, y: np.mean(get_res(K,alpha, y)**2 ) )\n",
        "  update_alpha = jit(lambda alpha, g: alpha+g)\n",
        "\n",
        "  K_1_jit = get_kernel(X,X)\n",
        "  start = timeit.default_timer()\n",
        "  K_1_jit = get_kernel(X,X)\n",
        "  end = timeit.default_timer()\n",
        "  print(\"time jit: %.7f\" % (end-start))\n",
        "  print( jnp.mean( (K_1_jit-K_1)**2 ) )\n",
        "\n",
        "\n",
        "  alpha = np.zeros( (block_size,10))\n",
        "  alpha_slow = np.zeros( (block_size, 10))\n",
        "  X = all_data[0:block_size,:]\n",
        "  K = get_kernel(X,X)\n",
        "  y = all_labels[0:block_size,:]\n",
        "  start_opt = timeit.default_timer()\n",
        "\n",
        "  T = 200\n",
        "  err = np.zeros(T)\n",
        "  for t in range(T):\n",
        "    res = get_res(K, alpha, y)\n",
        "    g = get_update(eta, P, res)\n",
        "    g_slow = get_update(eta_slow, np.eye(block_size), res)\n",
        "    err[t] = err_fn(K, alpha, y)\n",
        "    err_slow[t] = err_fn(K, alpha_slow, y)\n",
        "    alpha += g\n",
        "    alpha_slow += g_slow\n",
        "    \n",
        "    sys.stdout.write(\"\\rerror: %.7f | error slow: %.7f\" % (err[t], err_slow[t]))\n",
        "  end_opt = timeit.default_timer()\n",
        "  print(\"time to optimize = %.7f\" % (end_opt-start_opt))\n",
        "  plt.semilogy(err)\n",
        "  plt.semilogy(err_slow)\n",
        "  plt.show()\n",
        "\n",
        "  T=800\n",
        "  w_tot = all_data.shape[0] / block_size * w\n",
        "  eta = 100/np.amax(w_tot)\n",
        "  err = np.zeros(T)\n",
        "  alpha = np.zeros((block_size,10))\n",
        "  counter = 0\n",
        "  num_block = int(all_data.shape[0] / block_size)\n",
        "  update = np.zeros((block_size,10))\n",
        "  for t in range(T):\n",
        "    X = all_data[0:block_size,:]\n",
        "    y = all_labels[0:block_size,:]\n",
        "    K = get_kernel(X, X)\n",
        "    res = get_res(K, alpha, y)\n",
        "    g = get_update(eta, P, res)\n",
        "    update[0:block_size,:] += g\n",
        "    #alpha[counter*block_size:(counter+1)*block_size,:] += g\n",
        "    err[t] = err_fn(K, alpha, y)\n",
        "    sys.stdout.write(\"\\r counter: %d | error: %.7f | alpha size: %.7f\" % (counter, err[t], jnp.mean(alpha**2)))\n",
        "    counter += 1\n",
        "    counter = counter % num_block\n",
        "    if counter %1 ==0:\n",
        "      alpha += update\n",
        "      update = np.zeros(alpha.shape)\n",
        "  \n",
        "\n",
        "  plt.semilogy(err)\n",
        "  plt.show()\n",
        "\n",
        "\n",
        "\n",
        "  \"\"\"\n",
        "  for t in range(T):\n",
        "    index_start = t*block_size %all_data.shape[0]\n",
        "    print(\"start: %d\" % index_start)\n",
        "    X = all_data[index_start:index_start+block_size, :]\n",
        "    y = all_labels[index_start:index_start+block_size,:]\n",
        "    K_m = get_kernel(X,all_data)\n",
        "    err[t] = err_fn(K_m, alpha, y)\n",
        "    print(jnp.isnan(K_m).sum())\n",
        "    res = get_res(K_m, alpha, y)\n",
        "    g = get_update(eta, P, res)\n",
        "    alpha[index_start:index_start+block_size,:] += 1/block_size *g\n",
        "    err_after[t] = err_fn(K_m, alpha, y)\n",
        "    delta_alpha = jnp.sqrt( jnp.mean( (alpha)**2) )\n",
        "    print(\"change in alpha: %0.7f\" % delta_alpha)\n",
        "    print(\"error: %.7f | error after update: %.7f\" % (err[t],err_after[t]))\n",
        "\n",
        "  plt.loglog(err)\n",
        "  plt.show()\n",
        "  \"\"\"\n",
        "  return alpha\n"
      ],
      "execution_count": 0,
      "outputs": []
    },
    {
      "cell_type": "code",
      "metadata": {
        "id": "9kg3Ltvg2U63",
        "colab_type": "code",
        "outputId": "1d42441c-00a1-4654-cb9c-4a9e639c1fe9",
        "colab": {
          "base_uri": "https://localhost:8080/",
          "height": 850
        }
      },
      "source": [
        "block_size = 1000\n",
        "k = 700\n",
        "alpha = train_blocks(all_data, all_labels, block_size, k)\n"
      ],
      "execution_count": 0,
      "outputs": [
        {
          "output_type": "stream",
          "text": [
            "time without jit 0.75917\n"
          ],
          "name": "stdout"
        },
        {
          "output_type": "display_data",
          "data": {
            "image/png": "[encoded data removed]",
            "text/plain": [
              "<Figure size 432x288 with 1 Axes>"
            ]
          },
          "metadata": {
            "tags": [],
            "needs_background": "light"
          }
        },
        {
          "output_type": "stream",
          "text": [
            "time jit: 0.0031273\n",
            "1.2901751e-13\n",
            "error: 0.0000002 | error slow: 0.0899210time to optimize = 1.5359108\n"
          ],
          "name": "stdout"
        },
        {
          "output_type": "display_data",
          "data": {
            "image/png": "[encoded data removed]",
            "text/plain": [
              "<Figure size 432x288 with 1 Axes>"
            ]
          },
          "metadata": {
            "tags": [],
            "needs_background": "light"
          }
        },
        {
          "output_type": "stream",
          "text": [
            " counter: 49 | error: 0.0978296 | alpha size: 0.1152640"
          ],
          "name": "stdout"
        },
        {
          "output_type": "display_data",
          "data": {
            "image/png": "[encoded data removed]",
            "text/plain": [
              "<Figure size 432x288 with 1 Axes>"
            ]
          },
          "metadata": {
            "tags": [],
            "needs_background": "light"
          }
        }
      ]
    },
    {
      "cell_type": "code",
      "metadata": {
        "id": "AKnP5dpmu9pZ",
        "colab_type": "code",
        "colab": {}
      },
      "source": [
        "def eigenpro_sub_update(all_data, all_labels, block_size, eig_block_size, k):\n",
        "  # do a subset for now\n",
        "  \n",
        "  all_data =  all_data / np.outer(jnp.linalg.norm(all_data,axis = 1), (1+1e-3)*jnp.ones(all_data.shape[1])) \n",
        "  #all_data = all_data[0:5000,:]\n",
        "  #all_labels = all_labels[0:5000,:]\n",
        "  \n",
        "  get_kernel = jit(lambda X, Xp: kernel_2_layer(jnp.dot(X, Xp.T)))\n",
        "  get_res = jit(lambda K, alpha, y: y - jnp.dot(K, alpha))\n",
        "  speedy_dot = jit(lambda a, b: jnp.dot(a,b))\n",
        "  mse = jit(lambda res: jnp.mean(res**2))\n",
        "\n",
        "  X_s = all_data[0:eig_block_size,:]\n",
        "  K_s = get_kernel(X_s,X_s)\n",
        "  w_s, v_s = sp.linalg.eigh(K_s, eigvals = (eig_block_size-1-k,eig_block_size-1))\n",
        "  w_s = w_s[::-1]\n",
        "  v_s = v_s[:,::-1]\n",
        "  plt.loglog(w_s)\n",
        "  plt.show()\n",
        "\n",
        "  #P = v_s@  np.diag(w_s**(-1)) @ (np.eye(k+1) - w_s[-1]*np.diag(w_s**(-1)) ) @ v_s.T\n",
        "  P = speedy_dot(v_s, speedy_dot(np.diag(w_s**(-1)), speedy_dot( (np.eye(k+1) - w_s[-1]*np.diag(w_s**(-1))), v_s.T ) ) )\n",
        "  #P = v_s @(np.eye(k+1) - w_s[-1]*np.diag(w_s**(-1)) ) @ v_s.T\n",
        "\n",
        "\n",
        "  T = 5000\n",
        "  alpha = np.zeros(all_labels.shape)\n",
        "  errs = np.zeros(T)\n",
        "  print(w_s[-1])\n",
        "  #eta = 0.8/w_s[-1]\n",
        "  eta = 850/ w_s[-1]\n",
        "  print(\"eta = %.6f\" %eta)\n",
        "  for t in range(T):\n",
        "    start = (t * block_size) % all_data.shape[0] \n",
        "    if start == 0:\n",
        "      print(\"\\n new epoch\")\n",
        "    X_m = all_data[start:start+block_size,:]\n",
        "    y_m = all_labels[start:start+block_size,:]\n",
        "    K_m = get_kernel(X_m, all_data)\n",
        "    res = get_res(K_m, alpha, y_m)\n",
        "    alpha[start:start+block_size,:] += eta/block_size * res\n",
        "    K2 = get_kernel(X_s,X_m)\n",
        "    #alpha[0:block_size,:] +=  eta/block_size * jnp.dot(jnp.dot(P, K2), res)\n",
        "    alpha[0:eig_block_size,:] += - eta/block_size * speedy_dot(P, speedy_dot(K2, res))\n",
        "    train_err = 10*mse(res)\n",
        "    res2 = get_res(K_m, alpha, y_m)\n",
        "    train2 = 10*mse(res2)\n",
        "    alpha_norm = mse(alpha)\n",
        "    sys.stdout.write('\\r train err: %.8f | train after %.8f | alpha norm %.8f' % (train_err, train2, alpha_norm) )\n",
        "    errs[t] = train_err\n",
        "  \n",
        "  plt.semilogy(errs)\n",
        "  plt.show()\n",
        "\n",
        "  return alpha"
      ],
      "execution_count": 0,
      "outputs": []
    },
    {
      "cell_type": "code",
      "metadata": {
        "id": "lYlfaTJ-E9__",
        "colab_type": "code",
        "outputId": "fc2dea66-99c5-4a5e-caf6-5cbe1596dd1a",
        "colab": {
          "base_uri": "https://localhost:8080/",
          "height": 1000
        }
      },
      "source": [
        "block_size = 2000\n",
        "eig_block_size = 5000\n",
        "k = 640\n",
        "alpha = eigenpro_sub_update(all_data, all_labels, block_size, eig_block_size, k)\n",
        "\n"
      ],
      "execution_count": 0,
      "outputs": [
        {
          "output_type": "display_data",
          "data": {
            "image/png": "[encoded data removed]",
            "text/plain": [
              "<Figure size 432x288 with 1 Axes>"
            ]
          },
          "metadata": {
            "tags": [],
            "needs_background": "light"
          }
        },
        {
          "output_type": "stream",
          "text": [
            "0.04408534\n",
            "eta = 19280.786421\n",
            "\n",
            " new epoch\n",
            " train err: 0.76411033 | train after 0.76411033 | alpha norm 8.49267387\n",
            " new epoch\n",
            " train err: 0.67134821 | train after 0.67134821 | alpha norm 27.50923157\n",
            " new epoch\n",
            " train err: 0.69678336 | train after 0.69678336 | alpha norm 57.65205765\n",
            " new epoch\n",
            " train err: 0.56006503 | train after 0.56006503 | alpha norm 97.03254700\n",
            " new epoch\n",
            " train err: 0.52126133 | train after 0.52126133 | alpha norm 144.76057434\n",
            " new epoch\n",
            " train err: 0.51048928 | train after 0.51048928 | alpha norm 200.11865234\n",
            " new epoch\n",
            " train err: 0.46373099 | train after 0.46373099 | alpha norm 262.51751709\n",
            " new epoch\n",
            " train err: 0.43883121 | train after 0.43883121 | alpha norm 331.51794434\n",
            " new epoch\n",
            " train err: 0.41925299 | train after 0.41925299 | alpha norm 406.58587646\n",
            " new epoch\n",
            " train err: 0.41628274 | train after 0.41628274 | alpha norm 487.19009399\n",
            " new epoch\n",
            " train err: 0.38142782 | train after 0.38142782 | alpha norm 573.09674072\n",
            " new epoch\n",
            " train err: 0.36779317 | train after 0.36779317 | alpha norm 663.97778320\n",
            " new epoch\n",
            " train err: 0.35039937 | train after 0.35039937 | alpha norm 759.42871094\n",
            " new epoch\n",
            " train err: 0.33826172 | train after 0.33826172 | alpha norm 859.29559326\n",
            " new epoch\n",
            " train err: 0.33040410 | train after 0.33040410 | alpha norm 963.28320312\n",
            " new epoch\n",
            " train err: 0.31317320 | train after 0.31317320 | alpha norm 1071.10754395\n",
            " new epoch\n",
            " train err: 0.30332074 | train after 0.30332074 | alpha norm 1182.60681152\n",
            " new epoch\n",
            " train err: 0.29268318 | train after 0.29268318 | alpha norm 1297.55920410\n",
            " new epoch\n",
            " train err: 0.28457549 | train after 0.28457549 | alpha norm 1415.82922363\n",
            " new epoch\n",
            " train err: 0.27399790 | train after 0.27399790 | alpha norm 1537.19104004\n",
            " new epoch\n",
            " train err: 0.26521817 | train after 0.26521817 | alpha norm 1661.47070312\n",
            " new epoch\n",
            " train err: 0.25923604 | train after 0.25923604 | alpha norm 1788.58422852\n",
            " new epoch\n",
            " train err: 0.25077906 | train after 0.25077906 | alpha norm 1918.38012695\n",
            " new epoch\n",
            " train err: 0.24379444 | train after 0.24379444 | alpha norm 2050.71191406\n",
            " new epoch\n",
            " train err: 0.23707965 | train after 0.23707965 | alpha norm 2185.46655273\n",
            " new epoch\n",
            " train err: 0.23701458 | train after 0.23701458 | alpha norm 2322.53979492\n",
            " new epoch\n",
            " train err: 0.22509134 | train after 0.22509134 | alpha norm 2461.68896484\n",
            " new epoch\n",
            " train err: 0.22252403 | train after 0.22252403 | alpha norm 2602.96313477\n",
            " new epoch\n",
            " train err: 0.21356718 | train after 0.21356718 | alpha norm 2746.21020508\n",
            " new epoch\n",
            " train err: 0.20775500 | train after 0.20775500 | alpha norm 2891.34497070\n",
            " new epoch\n",
            " train err: 0.20247199 | train after 0.20247199 | alpha norm 3038.33032227\n",
            " new epoch\n",
            " train err: 0.19730212 | train after 0.19730212 | alpha norm 3187.02124023\n",
            " new epoch\n",
            " train err: 0.19940671 | train after 0.19940671 | alpha norm 3337.37890625\n",
            " new epoch\n",
            " train err: 0.19012418 | train after 0.19012418 | alpha norm 3489.16186523\n",
            " new epoch\n",
            " train err: 0.18469407 | train after 0.18469407 | alpha norm 3642.57690430\n",
            " new epoch\n",
            " train err: 0.17937602 | train after 0.17937602 | alpha norm 3797.36230469\n",
            " new epoch\n",
            " train err: 0.17722054 | train after 0.17722054 | alpha norm 3953.50463867\n",
            " new epoch\n",
            " train err: 0.17246814 | train after 0.17246814 | alpha norm 4111.01269531\n",
            " new epoch\n",
            " train err: 0.16952814 | train after 0.16952814 | alpha norm 4269.75439453\n",
            " new epoch\n",
            " train err: 0.16513763 | train after 0.16513763 | alpha norm 4429.64648438\n",
            " new epoch\n",
            " train err: 0.16156906 | train after 0.16156906 | alpha norm 4590.68554688\n",
            " new epoch\n",
            " train err: 0.16323395 | train after 0.16323395 | alpha norm 4752.81152344\n",
            " new epoch\n",
            " train err: 0.15745597 | train after 0.15745597 | alpha norm 4916.03125000\n",
            " new epoch\n",
            " train err: 0.15414053 | train after 0.15414053 | alpha norm 5080.77294922\n",
            " new epoch\n",
            " train err: 0.14977783 | train after 0.14977783 | alpha norm 5245.77783203\n",
            " new epoch\n",
            " train err: 0.14619794 | train after 0.14619794 | alpha norm 5411.71484375\n",
            " new epoch\n",
            " train err: 0.14358705 | train after 0.14358705 | alpha norm 5578.62304688\n",
            " new epoch\n",
            " train err: 0.14084482 | train after 0.14084482 | alpha norm 5746.24707031\n",
            " new epoch\n",
            " train err: 0.14084457 | train after 0.14084457 | alpha norm 5914.80224609\n",
            " new epoch\n",
            " train err: 0.13589172 | train after 0.13589172 | alpha norm 6084.07275391\n",
            " new epoch\n",
            " train err: 0.13360792 | train after 0.13360792 | alpha norm 6253.96533203\n",
            " new epoch\n",
            " train err: 0.13120903 | train after 0.13120903 | alpha norm 6424.55712891\n",
            " new epoch\n",
            " train err: 0.12902030 | train after 0.12902030 | alpha norm 6595.83496094\n",
            " new epoch\n",
            " train err: 0.12804770 | train after 0.12804770 | alpha norm 6767.77587891\n",
            " new epoch\n",
            " train err: 0.12470371 | train after 0.12470371 | alpha norm 6940.24121094\n",
            " new epoch\n",
            " train err: 0.12229072 | train after 0.12229072 | alpha norm 7113.29931641\n",
            " new epoch\n",
            " train err: 0.12130837 | train after 0.12130837 | alpha norm 7286.89208984\n",
            " new epoch\n",
            " train err: 0.11816229 | train after 0.11816229 | alpha norm 7460.96923828\n",
            " new epoch\n",
            " train err: 0.11615594 | train after 0.11615594 | alpha norm 7635.57617188\n",
            " new epoch\n",
            " train err: 0.11476412 | train after 0.11476412 | alpha norm 7810.60693359\n",
            " new epoch\n",
            " train err: 0.11347064 | train after 0.11347064 | alpha norm 7986.12890625\n",
            " new epoch\n",
            " train err: 0.11120863 | train after 0.11120863 | alpha norm 8162.01806641\n",
            " new epoch\n",
            " train err: 0.11634851 | train after 0.11634851 | alpha norm 8338.32031250\n",
            " new epoch\n",
            " train err: 0.10876671 | train after 0.10876671 | alpha norm 8514.91992188\n",
            " new epoch\n",
            " train err: 0.10630271 | train after 0.10630271 | alpha norm 8691.89453125\n",
            " new epoch\n",
            " train err: 0.10455355 | train after 0.10455355 | alpha norm 8869.21386719\n",
            " new epoch\n",
            " train err: 0.10285113 | train after 0.10285113 | alpha norm 9046.83300781\n",
            " new epoch\n",
            " train err: 0.10139157 | train after 0.10139157 | alpha norm 9224.74707031\n",
            " new epoch\n",
            " train err: 0.10127191 | train after 0.10127191 | alpha norm 9403.03222656\n",
            " new epoch\n",
            " train err: 0.09859955 | train after 0.09859955 | alpha norm 9581.45605469\n",
            " new epoch\n",
            " train err: 0.09723985 | train after 0.09723985 | alpha norm 9760.17089844\n",
            " new epoch\n",
            " train err: 0.09811055 | train after 0.09811055 | alpha norm 9939.11328125\n",
            " new epoch\n",
            " train err: 0.09465350 | train after 0.09465350 | alpha norm 10118.23339844\n",
            " new epoch\n",
            " train err: 0.09300712 | train after 0.09300712 | alpha norm 10297.67285156\n",
            " new epoch\n",
            " train err: 0.09248429 | train after 0.09248429 | alpha norm 10477.25390625\n",
            " new epoch\n",
            " train err: 0.09106562 | train after 0.09106562 | alpha norm 10657.02539062\n",
            " new epoch\n",
            " train err: 0.08924537 | train after 0.08924537 | alpha norm 10836.90234375\n",
            " new epoch\n",
            " train err: 0.08858369 | train after 0.08858369 | alpha norm 11016.95312500\n",
            " new epoch\n",
            " train err: 0.08716411 | train after 0.08716411 | alpha norm 11197.11523438\n",
            " new epoch\n",
            " train err: 0.08586421 | train after 0.08586421 | alpha norm 11377.42675781\n",
            " new epoch\n",
            " train err: 0.08506104 | train after 0.08506104 | alpha norm 11557.83007812\n",
            " new epoch\n",
            " train err: 0.08368368 | train after 0.08368368 | alpha norm 11738.36425781\n",
            " new epoch\n",
            " train err: 0.08253670 | train after 0.08253670 | alpha norm 11918.92187500\n",
            " new epoch\n",
            " train err: 0.08188035 | train after 0.08188035 | alpha norm 12099.50976562\n",
            " new epoch\n",
            " train err: 0.08107688 | train after 0.08107688 | alpha norm 12280.27148438\n",
            " new epoch\n",
            " train err: 0.07984529 | train after 0.07984529 | alpha norm 12461.12402344\n",
            " new epoch\n",
            " train err: 0.07857401 | train after 0.07857401 | alpha norm 12641.91308594\n",
            " new epoch\n",
            " train err: 0.07804279 | train after 0.07804279 | alpha norm 12822.73730469\n",
            " new epoch\n",
            " train err: 0.07702415 | train after 0.07702415 | alpha norm 13003.59765625\n",
            " new epoch\n",
            " train err: 0.07600612 | train after 0.07600612 | alpha norm 13184.43164062\n",
            " new epoch\n",
            " train err: 0.07511887 | train after 0.07511887 | alpha norm 13365.26660156\n",
            " new epoch\n",
            " train err: 0.07433143 | train after 0.07433143 | alpha norm 13546.07812500\n",
            " new epoch\n",
            " train err: 0.07293528 | train after 0.07293528 | alpha norm 13726.92187500\n",
            " new epoch\n",
            " train err: 0.07244432 | train after 0.07244432 | alpha norm 13907.76464844\n",
            " new epoch\n",
            " train err: 0.07141692 | train after 0.07141692 | alpha norm 14088.55273438\n",
            " new epoch\n",
            " train err: 0.07148691 | train after 0.07148691 | alpha norm 14269.39453125\n",
            " new epoch\n",
            " train err: 0.07014905 | train after 0.07014905 | alpha norm 14450.16601562\n",
            " new epoch\n",
            " train err: 0.06938445 | train after 0.06938445 | alpha norm 14630.72949219\n",
            " new epoch\n",
            " train err: 0.06858033 | train after 0.06858033 | alpha norm 14811.43945312\n",
            " new epoch\n",
            " train err: 0.06816866 | train after 0.06816866 | alpha norm 14992.04882812\n",
            " new epoch\n",
            " train err: 0.06686877 | train after 0.06686877 | alpha norm 15172.56054688\n",
            " new epoch\n",
            " train err: 0.06634976 | train after 0.06634976 | alpha norm 15353.03808594\n",
            " new epoch\n",
            " train err: 0.06610908 | train after 0.06610908 | alpha norm 15533.51660156\n",
            " new epoch\n",
            " train err: 0.06569137 | train after 0.06569137 | alpha norm 15713.87500000\n",
            " new epoch\n",
            " train err: 0.06441533 | train after 0.06441533 | alpha norm 15894.10644531\n",
            " new epoch\n",
            " train err: 0.06358534 | train after 0.06358534 | alpha norm 16074.16601562\n",
            " new epoch\n",
            " train err: 0.06265797 | train after 0.06265797 | alpha norm 16254.15527344\n",
            " new epoch\n",
            " train err: 0.06245020 | train after 0.06245020 | alpha norm 16434.23242188\n",
            " new epoch\n",
            " train err: 0.06196434 | train after 0.06196434 | alpha norm 16614.14648438\n",
            " new epoch\n",
            " train err: 0.06075498 | train after 0.06075498 | alpha norm 16793.99804688\n",
            " new epoch\n",
            " train err: 0.06027819 | train after 0.06027819 | alpha norm 16973.68554688\n",
            " new epoch\n",
            " train err: 0.06019131 | train after 0.06019131 | alpha norm 17153.06445312\n",
            " new epoch\n",
            " train err: 0.05948710 | train after 0.05948710 | alpha norm 17332.41406250\n",
            " new epoch\n",
            " train err: 0.05848818 | train after 0.05848818 | alpha norm 17511.63085938\n",
            " new epoch\n",
            " train err: 0.05795057 | train after 0.05795057 | alpha norm 17690.87109375\n",
            " new epoch\n",
            " train err: 0.05799533 | train after 0.05799533 | alpha norm 17869.93164062\n",
            " new epoch\n",
            " train err: 0.05672955 | train after 0.05672955 | alpha norm 18048.81640625\n",
            " new epoch\n",
            " train err: 0.05646896 | train after 0.05646896 | alpha norm 18227.53710938\n",
            " new epoch\n",
            " train err: 0.05602086 | train after 0.05602086 | alpha norm 18406.10156250\n",
            " new epoch\n",
            " train err: 0.05546722 | train after 0.05546722 | alpha norm 18584.54492188"
          ],
          "name": "stdout"
        },
        {
          "output_type": "display_data",
          "data": {
            "image/png": "[encoded data removed]",
            "text/plain": [
              "<Figure size 432x288 with 1 Axes>"
            ]
          },
          "metadata": {
            "tags": [],
            "needs_background": "light"
          }
        }
      ]
    },
    {
      "cell_type": "markdown",
      "metadata": {
        "id": "0KI3-ZAEnQjT",
        "colab_type": "text"
      },
      "source": [
        "# Finite neural network training (Pytorch)"
      ]
    },
    {
      "cell_type": "code",
      "metadata": {
        "id": "VhpKEst0BwGy",
        "colab_type": "code",
        "colab": {}
      },
      "source": [
        "import torch\n",
        "import torchvision\n",
        "import torchvision.transforms as transforms\n",
        "import sys\n"
      ],
      "execution_count": 0,
      "outputs": []
    },
    {
      "cell_type": "code",
      "metadata": {
        "id": "BWTPbwCpCDjM",
        "colab_type": "code",
        "colab": {}
      },
      "source": [
        "transform = transforms.Compose(\n",
        "    [transforms.ToTensor(),\n",
        "     transforms.Normalize((0.5, 0.5, 0.5), (0.5, 0.5, 0.5))])\n",
        "\n",
        "trainset = torchvision.datasets.CIFAR10(root='./data', train=True,\n",
        "                                        download=True, transform=transform)\n",
        "trainloader = torch.utils.data.DataLoader(trainset, batch_size=5000,\n",
        "                                          shuffle=True, num_workers=2)\n",
        "\n",
        "testset = torchvision.datasets.CIFAR10(root='./data', train=False,\n",
        "                                       download=True, transform=transform)\n",
        "testloader = torch.utils.data.DataLoader(testset, batch_size=5000,\n",
        "                                         shuffle=False, num_workers=2)"
      ],
      "execution_count": 0,
      "outputs": []
    },
    {
      "cell_type": "code",
      "metadata": {
        "id": "6Gn_9PLaCT-d",
        "colab_type": "code",
        "colab": {}
      },
      "source": [
        "import torch.nn as nn\n",
        "import torch.nn.functional as F\n",
        "\n",
        "class FCmodel(nn.Module):\n",
        "    def __init__(self, num_layers, num_nodes):\n",
        "        # call constructor from superclass\n",
        "        super().__init__()\n",
        "        \n",
        "        # define network layers\n",
        "        self.model  = nn.Sequential(\n",
        "            nn.Linear(3*32*32, num_nodes), \n",
        "            nn.ReLU()\n",
        "        )\n",
        "        for i in range(1, num_layers):\n",
        "          self.model.add_module(\"fc\" + str(i), nn.Linear(num_nodes, num_nodes))\n",
        "          self.model.add_module(\"relu\" + str(i), nn.ReLU())\n",
        "        self.model.add_module(\"output\", nn.Linear(num_nodes, 10))\n",
        "        \n",
        "    def forward(self, x):\n",
        "        x = x.reshape((-1, 3*32*32))\n",
        "        # define forward pass\n",
        "        x = self.model(x)\n",
        "        return x"
      ],
      "execution_count": 0,
      "outputs": []
    },
    {
      "cell_type": "code",
      "metadata": {
        "id": "dcIwyhxcCL7Z",
        "colab_type": "code",
        "colab": {}
      },
      "source": [
        "import numpy as np\n",
        "def training_to_zero_loss(model, trainloader, testloader, train_losses, epoch_train_accs, criterion, optimizer, scheduler):\n",
        "  start = timeit.default_timer()\n",
        "  while True:\n",
        "    model.train()\n",
        "    scheduler.step()\n",
        "    #print('Epoch:', epoch,'LR:', scheduler.get_lr())\n",
        "    train_accs = []\n",
        "    for i, batch in enumerate(trainloader):\n",
        "      optimizer.zero_grad()\n",
        "      inputs, labels = batch\n",
        "      inputs = inputs.to(device)\n",
        "      labels = labels.to(device)\n",
        "\n",
        "      outputs = model(inputs)\n",
        "      loss = criterion(outputs, labels)\n",
        "      loss.backward()\n",
        "      optimizer.step()\n",
        "      train_losses.append(loss.item())\n",
        "      #sys.stdout.write('\\rtrain loss: %0.4f' % loss)\n",
        "      #sys.stdout.flush()\n",
        "      _, predicted = torch.max(outputs.data, 1)\n",
        "      train_acc = (predicted == labels).sum().item()/labels.size(0)\n",
        "      train_accs.append(train_acc)\n",
        "      sys.stdout.write('\\rtrain acc: %0.4f' % train_acc)\n",
        "      sys.stdout.flush()\n",
        "    epoch_train_acc = np.mean(train_accs)\n",
        "    print(\"  epoch train acc is\", epoch_train_acc)\n",
        "    epoch_train_accs.append(epoch_train_acc)\n",
        "    if (len(epoch_train_accs) >= 5) and (np.mean(epoch_train_accs[-5:]) >= 0.8):\n",
        "      end = timeit.default_timer()\n",
        "      train_time = end - start\n",
        "      return train_time\n",
        "\n",
        "  end = timeit.default_timer()\n",
        "  train_time = end - start\n",
        "  return train_time\n",
        "\n",
        "def evaluation(model, dataloader):\n",
        "  model = model.eval()\n",
        "  total = 0\n",
        "  correct = 0\n",
        "  with torch.no_grad():\n",
        "    for data in dataloader:\n",
        "        inputs, labels = data\n",
        "        inputs = inputs.to(device)\n",
        "        labels = labels.to(device)\n",
        "        outputs = model(inputs)\n",
        "        _, predicted = torch.max(outputs.data, 1)\n",
        "        total += labels.size(0)\n",
        "        correct += (predicted == labels).sum().item()\n",
        "  return correct/total"
      ],
      "execution_count": 0,
      "outputs": []
    },
    {
      "cell_type": "code",
      "metadata": {
        "id": "8wDfYMHxCaKf",
        "colab_type": "code",
        "colab": {}
      },
      "source": [
        "widths = [128, 256, 512]\n",
        "layers = [2,5,10,12,15, 20, 50]\n",
        "info_dict = {}\n",
        "for layer in layers:\n",
        "  for width in widths:\n",
        "    trainloader = torch.utils.data.DataLoader(trainset, batch_size=500, shuffle=True)\n",
        "    testloader = torch.utils.data.DataLoader(testset, batch_size=500, shuffle=False)\n",
        "    print(\"layer\", layer, \"width\", width)\n",
        "    info_dict[\"combo\"] = [layer, width]\n",
        "    model = FCmodel(layer, width)\n",
        "    model = model.to(device)#\n",
        "    criterion = nn.CrossEntropyLoss()\n",
        "    optimizer = optim.Adam(model.parameters(), lr=0.01)\n",
        "    scheduler = torch.optim.lr_scheduler.StepLR(optimizer, step_size=200, gamma=0.5)\n",
        "    train_losses = []\n",
        "    epoch_train_accs = []\n",
        "    training_time = training_to_zero_loss(model, trainloader, testloader, \n",
        "                                          train_losses, epoch_train_accs, \n",
        "                                          criterion, optimizer, scheduler)\n",
        "    info_dict[\"epoch_train_accs\"] = epoch_train_accs\n",
        "    info_dict[\"train_losses\"] = train_losses\n",
        "    print(\"training time is\", training_time)\n",
        "    info_dict[\"train_time\"] = training_time\n",
        "    test_acc = evaluation(model, testloader)\n",
        "    print(\"testing acc is\", test_acc)\n",
        "    info_dict[\"test_acc\"] = test_acc\n",
        "    filename = str(layer) + \"_\" + str(width)\n",
        "    with open(\"drive/My Drive/kernel_method_files/pytorch_cifar10_90pa_\" + filename + \"_info.pkl\", \"wb\") as f:\n",
        "      pickle.dump(info_dict, f)"
      ],
      "execution_count": 0,
      "outputs": []
    },
    {
      "cell_type": "code",
      "metadata": {
        "id": "80uwn47kC085",
        "colab_type": "code",
        "colab": {}
      },
      "source": [
        ""
      ],
      "execution_count": 0,
      "outputs": []
    },
    {
      "cell_type": "markdown",
      "metadata": {
        "id": "DpT4R0ycC1Qa",
        "colab_type": "text"
      },
      "source": [
        "# Finite neural network traning (jax)"
      ]
    },
    {
      "cell_type": "code",
      "metadata": {
        "id": "V4ZbWkqOC6ix",
        "colab_type": "code",
        "colab": {}
      },
      "source": [
        "soft_max = jit(lambda z: jnp.exp(z) / jnp.outer(jnp.sum(jnp.exp(z), axis=1), jnp.ones(z.shape[1])))\n",
        "predict = jit(lambda params, X: soft_max(apply_fn(params, X)))\n",
        "nn_loss_cross = jit(lambda params, X, y: - jnp.mean(y * jnp.log(predict(params, X))))\n",
        "grad_loss_cross = jit(lambda state, x, y: grad(nn_loss_cross)(get_params(state), x, y))"
      ],
      "execution_count": 0,
      "outputs": []
    },
    {
      "cell_type": "code",
      "metadata": {
        "id": "VJWb9sYQDFBD",
        "colab_type": "code",
        "colab": {}
      },
      "source": [
        "def train_network_zero_loss(params):\n",
        "  start = timeit.default_timer()\n",
        "  opt_state = opt_init(params)\n",
        "  train_losses = []\n",
        "  train_loss_i = float(\"inf\")\n",
        "  train_accs = []\n",
        "  train_data_shuff = tfds.as_numpy(train_data.shuffle(1024).batch(batch_size).repeat(10000))\n",
        "  i = 0\n",
        "  while len(train_accs)<10 or np.mean(train_accs[-3:]) < 0.99:\n",
        "    data_i = next(train_data_shuff)\n",
        "    data_i = process_data(data_i)\n",
        "    images = data_i[\"image\"] / 255\n",
        "    labels = data_i[\"label\"]\n",
        "    print(images.shape, labels.shape)\n",
        "    opt_state = opt_update(i, grad_loss_cross(opt_state, images, labels), opt_state)\n",
        "    print(\"get opt state\")\n",
        "    batch_preds = predict(get_params(opt_state), images)\n",
        "    train_loss_i = nn_loss_cross(get_params(opt_state), batch_preds, labels)\n",
        "    train_losses.append(train_loss_i)\n",
        "\n",
        "    preds = np.argmax(batch_preds, axis = 1).astype('int')\n",
        "    true  = np.argmax(labels, axis =1).astype('int')\n",
        "    train_acc_i = (preds==true).mean()\n",
        "    train_accs.append(train_acc_i)\n",
        "    \n",
        "    sys.stdout.write('\\rtrain acc: %0.5f' % train_acc_i)\n",
        "    sys.stdout.flush()\n",
        "    i += 1\n",
        "  end = timeit.default_timer()\n",
        "  train_time = end - start\n",
        "  return opt_state, train_accs, train_losses, train_time"
      ],
      "execution_count": 0,
      "outputs": []
    },
    {
      "cell_type": "code",
      "metadata": {
        "id": "0S046rr_DYva",
        "colab_type": "code",
        "colab": {}
      },
      "source": [
        "# define optimizer\n",
        "lr = 1e-2\n",
        "opt_init, opt_update, get_params = optimizers.adam(lr)\n",
        "\n",
        "model_combos = []\n",
        "train_errors_list = []\n",
        "test_errors = []\n",
        "train_times = []\n",
        "\n",
        "widths = [128, 256, 512]\n",
        "layers = [2,5,10,12,15,20,50]\n",
        "for n in layers:\n",
        "  for width in widths:\n",
        "    print(f\"Depth {n}\\tWidth {width}\")\n",
        "    init_fn, apply_fn, kernel_fn = FullyConnected(n, width)\n",
        "    key = random.PRNGKey(2020)\n",
        "    _, params = init_fn(key, (-1, 1024))\n",
        "\n",
        "    train_data_shuff = tfds.as_numpy(train_data.shuffle(1024).batch(batch_size).repeat(training_epochs))\n",
        "\n",
        "    opt_state, train_errors, train_time = train_network_zero_loss(params)\n",
        "\n",
        "    print(\"\\nTraining Time: %0.5f\" %train_time)\n",
        "    test_preds = predict(get_params(opt_state), test_images)\n",
        "    preds = np.argmax(test_preds, axis = 1).astype('int')\n",
        "    true = np.argmax(test_labels, axis = 1).astype('int')\n",
        "    gen_err = 1 - (preds==true).mean()\n",
        "    print(\"Test Classification Error: %0.5f\" %gen_err)\n",
        "    model_combos.append((n, width))\n",
        "    train_errors_list.append(train_errors)\n",
        "    test_errors.append(gen_err)\n",
        "    train_times.append(train_time)"
      ],
      "execution_count": 0,
      "outputs": []
    }
  ]
}